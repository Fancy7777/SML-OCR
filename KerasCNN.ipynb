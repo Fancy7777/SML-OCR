{
 "cells": [
  {
   "cell_type": "code",
   "execution_count": 2,
   "metadata": {
    "collapsed": false
   },
   "outputs": [
    {
     "name": "stderr",
     "output_type": "stream",
     "text": [
      "Using TensorFlow backend.\n"
     ]
    }
   ],
   "source": [
    "#import needed libraries\n",
    "import tensorflow as tf\n",
    "sess = tf.Session()\n",
    "\n",
    "from keras import backend as K\n",
    "K.set_session(sess)\n",
    "\n",
    "#%matplotlib inline\n",
    "import numpy as np\n",
    "#import matplotlib.pyplot as plt\n",
    "from sklearn import cross_validation\n",
    "import tensorflow as tf\n",
    "import random\n",
    "from keras.utils import np_utils\n",
    "\n",
    "\n",
    "from keras.layers.convolutional import ZeroPadding2D\n",
    "from keras.layers import Convolution2D, MaxPooling2D\n",
    "from keras.layers import Dense, Dropout, Activation, Flatten\n",
    "from keras.models import Sequential\n",
    "import matplotlib.pyplot as plt"
   ]
  },
  {
   "cell_type": "code",
   "execution_count": 3,
   "metadata": {
    "collapsed": true
   },
   "outputs": [],
   "source": [
    "#import data\n",
    "trainData=np.genfromtxt('train.csv',delimiter=',')\n",
    "trainingPixmaps=trainData[:,9:438]/255\n",
    "trainingClasses=trainData[:,1]"
   ]
  },
  {
   "cell_type": "code",
   "execution_count": 4,
   "metadata": {
    "collapsed": false
   },
   "outputs": [],
   "source": [
    "#import test data for printing\n",
    "testData=np.genfromtxt('test.csv',delimiter=',')\n",
    "testPixmaps = testData[:,9:438]/255\n",
    "testIds = testData[:,0]"
   ]
  },
  {
   "cell_type": "code",
   "execution_count": 127,
   "metadata": {
    "collapsed": false
   },
   "outputs": [],
   "source": [
    "img2 = testPixmaps[105].reshape(33,13)\n",
    "\n",
    "#smallImage = smallImage[10:24,1:13]\n",
    "plt.imshow(img2, 'gray')\n",
    "#plt.imshow(scaledImage, 'gray')\n",
    "plt.show()"
   ]
  },
  {
   "cell_type": "code",
   "execution_count": 66,
   "metadata": {
    "collapsed": false
   },
   "outputs": [],
   "source": [
    "#doing cross validation\n",
    "x_train, x_test, y_train, y_test = cross_validation.train_test_split (trainingPixmaps, \n",
    "                                                                      trainingClasses,    \n",
    "                                                                      test_size=0.25, \n",
    "                                                                      random_state=0)"
   ]
  },
  {
   "cell_type": "code",
   "execution_count": 17,
   "metadata": {
    "collapsed": true
   },
   "outputs": [],
   "source": [
    "#change the input format for y train and y test\n",
    "def changeY(ys) :\n",
    "    newYs = []\n",
    "    for i in range (0,len(ys)):\n",
    "        index = int(ys[i])\n",
    "        newPoint = np.zeros(98)\n",
    "        newPoint[index] = 1\n",
    "        newYs.append(newPoint)\n",
    "    return np.asarray(newYs)"
   ]
  },
  {
   "cell_type": "code",
   "execution_count": 18,
   "metadata": {
    "collapsed": true
   },
   "outputs": [],
   "source": [
    "#change the format\n",
    "Y_train = changeY(y_train)\n",
    "Y_test = changeY(y_test)"
   ]
  },
  {
   "cell_type": "code",
   "execution_count": 19,
   "metadata": {
    "collapsed": true
   },
   "outputs": [],
   "source": [
    "#reshape the format of x train and x test\n",
    "X_train = x_train.reshape(x_train.shape[0], 13, 33,1)\n",
    "X_test = x_test.reshape(x_test.shape[0], 13, 33, 1)"
   ]
  },
  {
   "cell_type": "code",
   "execution_count": 20,
   "metadata": {
    "collapsed": true
   },
   "outputs": [],
   "source": [
    "#define the data type for x train and x test\n",
    "X_train = X_train.astype('float32')\n",
    "X_test = X_test.astype('float32')"
   ]
  },
  {
   "cell_type": "code",
   "execution_count": 32,
   "metadata": {
    "collapsed": false
   },
   "outputs": [],
   "source": [
    "#do CNN with 2 convolutional layers, 2 pooling layers, 2 dense layer, \n",
    "#1 activation layer\n",
    "model = Sequential()\n",
    "\n",
    "\n",
    "#layer 1\n",
    "model.add(Convolution2D(18, 5, 5,input_shape = (13,33,1),border_mode='same'))\n",
    "model.add(Activation('relu'))\n",
    "\n",
    "#pooling \n",
    "model.add(MaxPooling2D(pool_size=(2,2)))\n",
    "\n",
    "#layer 2\n",
    "ZeroPadding2D((1,1))\n",
    "model.add(Convolution2D(64, 3, 3, border_mode='same'))\n",
    "model.add(Activation('relu'))\n",
    "\n",
    "#pool\n",
    "model.add(MaxPooling2D(pool_size=(2,2)))\n",
    "\n",
    "\n",
    "#drop out with dense\n",
    "model.add(Flatten())\n",
    "model.add(Dense(2304,init = 'he_normal'))\n",
    "model.add(Activation('relu'))\n",
    "model.add(Dropout(0.5))\n",
    "\n",
    "\n",
    "#dense with dropout\n",
    "model.add(Dense(2500,init = 'he_normal'))\n",
    "model.add(Activation('relu'))\n",
    "model.add(Dropout(0.5))\n",
    "\n",
    "#softmax layer\n",
    "\n",
    "model.add(Dense(98,init = 'he_normal'))\n",
    "model.add(Activation('softmax'))\n",
    "\n",
    "model.compile(loss='categorical_crossentropy',\n",
    "              optimizer='adadelta',\n",
    "              metrics=['accuracy'])"
   ]
  },
  {
   "cell_type": "code",
   "execution_count": 33,
   "metadata": {
    "collapsed": false
   },
   "outputs": [
    {
     "name": "stdout",
     "output_type": "stream",
     "text": [
      "Train on 37711 samples, validate on 12571 samples\n",
      "Epoch 1/10\n",
      "37711/37711 [==============================] - 268s - loss: 2.1094 - acc: 0.5268 - val_loss: 1.7842 - val_acc: 0.6291\n",
      "Epoch 2/10\n",
      "37711/37711 [==============================] - 264s - loss: 1.7315 - acc: 0.6449 - val_loss: 1.6742 - val_acc: 0.6599\n",
      "Epoch 3/10\n",
      "37711/37711 [==============================] - 263s - loss: 1.6523 - acc: 0.6639 - val_loss: 1.6745 - val_acc: 0.6637\n",
      "Epoch 4/10\n",
      "37711/37711 [==============================] - 265s - loss: 1.5973 - acc: 0.6733 - val_loss: 1.6792 - val_acc: 0.6644\n",
      "Epoch 5/10\n",
      "37711/37711 [==============================] - 270s - loss: 1.5569 - acc: 0.6789 - val_loss: 1.6354 - val_acc: 0.6715\n",
      "Epoch 6/10\n",
      "37711/37711 [==============================] - 256s - loss: 1.5180 - acc: 0.6846 - val_loss: 1.6933 - val_acc: 0.6740\n",
      "Epoch 7/10\n",
      "37711/37711 [==============================] - 258s - loss: 1.4857 - acc: 0.6894 - val_loss: 1.6265 - val_acc: 0.6758\n",
      "Epoch 8/10\n",
      "37711/37711 [==============================] - 257s - loss: 1.4509 - acc: 0.6936 - val_loss: 1.6005 - val_acc: 0.6793\n",
      "Epoch 9/10\n",
      "37711/37711 [==============================] - 251s - loss: 1.4144 - acc: 0.6976 - val_loss: 1.6396 - val_acc: 0.6800\n",
      "Epoch 10/10\n",
      "37711/37711 [==============================] - 268s - loss: 1.3771 - acc: 0.7014 - val_loss: 1.6964 - val_acc: 0.6770\n",
      "('Test score:', 1.6964091926910325)\n",
      "('Test accuracy:', 0.67695489624654015)\n"
     ]
    }
   ],
   "source": [
    "#generate accuracy based on cross validation\n",
    "model.fit(X_train, Y_train, batch_size=30, nb_epoch=10,\n",
    "          verbose=1, validation_data=(X_test, Y_test))\n",
    "score = model.evaluate(X_test, Y_test, verbose=0)\n",
    "print('Test score:', score[0])\n",
    "print('Test accuracy:', score[1])"
   ]
  },
  {
   "cell_type": "code",
   "execution_count": 34,
   "metadata": {
    "collapsed": true
   },
   "outputs": [],
   "source": [
    "#make the prediction. put predict data into a list\n",
    "np.genfromtxt('test.csv',delimiter=',')\n",
    "\n",
    "theTestData = testData[:,9:438]\n",
    "theTestData = theTestData.reshape(theTestData.shape[0], 13, 33, 1)\n",
    "\n",
    "predClasses = model.predict( theTestData, batch_size=5, verbose=0)\n",
    "\n",
    "testIds = testData[:,0]\n",
    "\n",
    "toSubmit = []\n",
    "for i in range(0, len(testData)) :\n",
    "    temp = [testIds[i]]\n",
    "    temp.append(np.argmax(predClasses[i]))\n",
    "    toSubmit.append(temp)"
   ]
  },
  {
   "cell_type": "code",
   "execution_count": 35,
   "metadata": {
    "collapsed": true
   },
   "outputs": [],
   "source": [
    "#print out the list\n",
    "import csv \n",
    "\n",
    "with open(\"KerasCNN.csv\", \"wb\") as f:\n",
    "    writer = csv.writer(f)\n",
    "    writer.writerows(toSubmit)"
   ]
  }
 ],
 "metadata": {
  "anaconda-cloud": {},
  "kernelspec": {
   "display_name": "Python [Root]",
   "language": "python",
   "name": "Python [Root]"
  },
  "language_info": {
   "codemirror_mode": {
    "name": "ipython",
    "version": 2
   },
   "file_extension": ".py",
   "mimetype": "text/x-python",
   "name": "python",
   "nbconvert_exporter": "python",
   "pygments_lexer": "ipython2",
   "version": "2.7.12"
  }
 },
 "nbformat": 4,
 "nbformat_minor": 0
}
