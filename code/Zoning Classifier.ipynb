{
 "cells": [
  {
   "cell_type": "code",
   "execution_count": 30,
   "metadata": {
    "collapsed": false
   },
   "outputs": [],
   "source": [
    "%matplotlib inline\n",
    "import numpy as np\n",
    "import matplotlib.pyplot as plt\n",
    "#import sys\n",
    "#sys.path.append('/usr/local/lib/python2.7/site-packages')\n",
    "import cv2\n",
    "from sklearn import cross_validation\n",
    "import random"
   ]
  },
  {
   "cell_type": "code",
   "execution_count": 3,
   "metadata": {
    "collapsed": true
   },
   "outputs": [],
   "source": [
    "allTraingData = np.genfromtxt('train.csv', delimiter=',')"
   ]
  },
  {
   "cell_type": "code",
   "execution_count": 21,
   "metadata": {
    "collapsed": false
   },
   "outputs": [],
   "source": [
    "trainingPixmaps = allTraingData[:,9:438]\n",
    "trainingClasses =  allTraingData[:,1]\n",
    "bookIds = allTraingData[:,2]\n",
    "\n",
    "newtrainingPixmaps = []\n",
    "for i in range (0, len(trainingPixmaps)):\n",
    "    pont = np.append(trainingPixmaps[i], bookIds[i])\n",
    "    newtrainingPixmaps.append(pont)\n",
    "\n",
    "\n",
    "\n",
    "X_train, X_test, y_train, y_test = cross_validation.train_test_split (trainingPixmaps, trainingClasses, \n",
    "                                                                      test_size=0.10, random_state=0)"
   ]
  },
  {
   "cell_type": "code",
   "execution_count": 4,
   "metadata": {
    "collapsed": true
   },
   "outputs": [],
   "source": [
    "allTestData = np.genfromtxt('test.csv', delimiter = ',')\n",
    "newTestPixmaps = []\n",
    "for i in range (0, len(allTestData)):\n",
    "    pont = np.append(allTestData[:,9:438][i], allTestData[:,2][i])\n",
    "    newTestPixmaps.append(pont)"
   ]
  },
  {
   "cell_type": "code",
   "execution_count": 8,
   "metadata": {
    "collapsed": true
   },
   "outputs": [],
   "source": [
    "def removeNoise(image) :\n",
    "    image = image.reshape(33,13)\n",
    "    image = image.astype(np.uint8)\n",
    "    ret,th1 = cv2.threshold(image,127,255,cv2.THRESH_BINARY)\n",
    "    th1 = th1.reshape(429)\n",
    "    return th1"
   ]
  },
  {
   "cell_type": "code",
   "execution_count": 9,
   "metadata": {
    "collapsed": true
   },
   "outputs": [],
   "source": [
    "def removeNoise2(image) :\n",
    "    image = image.reshape(40,15)\n",
    "    image = image.astype(np.uint8)\n",
    "    ret,th1 = cv2.threshold(image,127,255,cv2.THRESH_BINARY)\n",
    "    th1 = th1.reshape(600)\n",
    "    return th1"
   ]
  },
  {
   "cell_type": "code",
   "execution_count": 10,
   "metadata": {
    "collapsed": true
   },
   "outputs": [],
   "source": [
    "def removeWhitespace(image):\n",
    "    image = image.reshape(33,13)\n",
    "    rowSums = np.sum(image, axis = 1)\n",
    "    colSums = np.sum(image, axis = 0)\n",
    "    blankRowsStart = 0\n",
    "    blankRowsEnd = 13\n",
    "    blankColumnsStart = 0\n",
    "    blankColumsnEnd = 33\n",
    "    \n",
    "    #Top rows margin\n",
    "    isBlank = 1\n",
    "    count = 0;\n",
    "    while(isBlank and count != 32) :\n",
    "        if(rowSums[count] == 0) :\n",
    "            count += 1\n",
    "        else :\n",
    "            isBlank = 0\n",
    "            \n",
    "    blankRowsStart = 0 + count\n",
    "    \n",
    "    #Bottom rows margin\n",
    "    isBlank = 1\n",
    "    count = 32;\n",
    "    while(isBlank and count != 1) :\n",
    "        if(rowSums[count] == 0) :\n",
    "            count -= 1\n",
    "        else :\n",
    "            isBlank = 0\n",
    "            \n",
    "    blankRowsEnd = count\n",
    "    \n",
    "    \n",
    "        #Left cols margin\n",
    "    isBlank = 1\n",
    "    count = 0;\n",
    "    while(isBlank and count != 12) :\n",
    "        if(colSums[count] == 0) :\n",
    "            count += 1\n",
    "        else :\n",
    "            isBlank = 0\n",
    "            \n",
    "    blankColumnsStart = 0 + count\n",
    "    \n",
    "    #Bottom rows margin\n",
    "    isBlank = 1\n",
    "    count = 12;\n",
    "    while(isBlank and count != 1) :\n",
    "        if(colSums[count] == 0) :\n",
    "            count -= 1\n",
    "        else :\n",
    "            isBlank = 0\n",
    "            \n",
    "    blankColumsnEnd =  count\n",
    "    \n",
    "    if blankColumsnEnd != 12 :\n",
    "        blankColumsnEnd += 1\n",
    "        \n",
    "    if blankRowsEnd != 32 :\n",
    "        blankRowsEnd += 1\n",
    "        \n",
    "    if (blankRowsStart == 32) :\n",
    "        blankRowsStart = 0\n",
    "    if (blankColumnsStart == 12):\n",
    "        blankColumnsStart = 0\n",
    "        \n",
    "    #print(blankRowsStart)\n",
    "    #print(blankRowsEnd)\n",
    "    #print(blankColumnsStart)\n",
    "    #print(blankColumsnEnd)\n",
    "    smallImage = image[blankRowsStart:blankRowsEnd,blankColumnsStart:blankColumsnEnd]\n",
    "    scaledImage = cv2.resize(smallImage, (15,40))\n",
    "    #resized_image = cv2.resize(image, (100, 50)) \n",
    "    return scaledImage.reshape(600)\n"
   ]
  },
  {
   "cell_type": "code",
   "execution_count": 11,
   "metadata": {
    "collapsed": true
   },
   "outputs": [],
   "source": [
    "def clean (point) :\n",
    "    img1 = removeNoise(point)\n",
    "    img2 = removeWhitespace(img1)\n",
    "    img3 = removeNoise2(img2)\n",
    "    return img3"
   ]
  },
  {
   "cell_type": "code",
   "execution_count": 20,
   "metadata": {
    "collapsed": false
   },
   "outputs": [
    {
     "name": "stdout",
     "output_type": "stream",
     "text": [
      "430\n"
     ]
    }
   ],
   "source": [
    "print(len(X_train[0]))"
   ]
  },
  {
   "cell_type": "code",
   "execution_count": 42,
   "metadata": {
    "collapsed": false,
    "scrolled": true
   },
   "outputs": [
    {
     "data": {
      "image/png": "[encoded data removed]",
      "text/plain": [
       "<matplotlib.figure.Figure at 0x7f5a00ea25d0>"
      ]
     },
     "metadata": {},
     "output_type": "display_data"
    }
   ],
   "source": [
    "img = X_train[0].reshape(33,13) \n",
    "#cleaned = clean(test).reshape(40,15) \n",
    "plt.imshow(img, 'gray')\n",
    "#plt.imshow(removeNoise2(removeWhitespace(removeNoise(img))).reshape(40,15) , 'gray')\n",
    "plt.title(\"Original\")\n",
    "plt.show()"
   ]
  },
  {
   "cell_type": "code",
   "execution_count": 9,
   "metadata": {
    "collapsed": false
   },
   "outputs": [
    {
     "data": {
      "image/png": "[encoded data removed]",
      "text/plain": [
       "<matplotlib.figure.Figure at 0x7f39c375c490>"
      ]
     },
     "metadata": {},
     "output_type": "display_data"
    }
   ],
   "source": [
    "img = X_train[0]\n",
    "cleaned = clean(test).reshape(40,15) \n",
    "plt.imshow(cleaned, 'gray')\n",
    "plt.show()"
   ]
  },
  {
   "cell_type": "code",
   "execution_count": 10,
   "metadata": {
    "collapsed": false
   },
   "outputs": [],
   "source": [
    "def returnZones (img) : # image of size 40*15\n",
    "    img = np.array(img.reshape(40,15))\n",
    "    zones = []\n",
    "    for i in range (0 , 2) :\n",
    "        for j in range (0,3) :\n",
    "            rowStart = i*20\n",
    "            rowEnd = (i+1) * 20\n",
    "            colStart = j*5\n",
    "            colEnd = (j+1)*5\n",
    "            aZone = img[rowStart:rowEnd,colStart:colEnd]\n",
    "            zones.append(aZone)\n",
    "    return zones\n",
    "    "
   ]
  },
  {
   "cell_type": "code",
   "execution_count": 11,
   "metadata": {
    "collapsed": false
   },
   "outputs": [
    {
     "data": {
      "image/png": "[encoded data removed]",
      "text/plain": [
       "<matplotlib.figure.Figure at 0x7f3979dd7f90>"
      ]
     },
     "metadata": {},
     "output_type": "display_data"
    }
   ],
   "source": [
    "zoned = returnZones(cleaned)\n",
    "plt.imshow(zoned[3], 'gray')\n",
    "plt.show()"
   ]
  },
  {
   "cell_type": "code",
   "execution_count": 12,
   "metadata": {
    "collapsed": true
   },
   "outputs": [],
   "source": [
    "# For each zone, can get the following features:\n",
    "# The magnitude\n",
    "# Edge detection\n",
    "\n",
    "# "
   ]
  },
  {
   "cell_type": "code",
   "execution_count": 13,
   "metadata": {
    "collapsed": true
   },
   "outputs": [],
   "source": [
    "def makeBinary(zone) :\n",
    "    zone = np.clip(zone,0,1)\n",
    "    return zone.reshape(20,5)\n",
    "    "
   ]
  },
  {
   "cell_type": "code",
   "execution_count": 14,
   "metadata": {
    "collapsed": true
   },
   "outputs": [],
   "source": [
    "def makeSobel(img) :\n",
    "    sobelx = cv2.Sobel(img,cv2.CV_64F,1,0,ksize=3)\n",
    "    sobely = cv2.Sobel(img,cv2.CV_64F,0,1,ksize=3)\n",
    "    return (sobelx, sobely)"
   ]
  },
  {
   "cell_type": "code",
   "execution_count": 15,
   "metadata": {
    "collapsed": false
   },
   "outputs": [
    {
     "data": {
      "image/png": "[encoded data removed]",
      "text/plain": [
       "<matplotlib.figure.Figure at 0x7f39776aea90>"
      ]
     },
     "metadata": {},
     "output_type": "display_data"
    }
   ],
   "source": [
    "imgTest = X_train[1]\n",
    "imgTest = imgTest.reshape(33,13)\n",
    "(sobelx, sobely) = makeSobel(imgTest)\n",
    "sobely = sobely.reshape(33,13)\n",
    "#print (sobely)\n",
    "plt.imshow(sobely,'gray')\n",
    "plt.show()"
   ]
  },
  {
   "cell_type": "code",
   "execution_count": 16,
   "metadata": {
    "collapsed": false
   },
   "outputs": [],
   "source": [
    "def calcFeat(dataset) :  \n",
    "    calcFeatures = []\n",
    "    for i in range (0,len(dataset)) :\n",
    "    #for i in range (0,1) :\n",
    "        if (i % 10000 == 0) :\n",
    "            print (\"10,000 features completed\")\n",
    "        point = dataset[i]\n",
    "        pointsFeatures = []\n",
    "        cleanPoint = clean(point)\n",
    "        zones = returnZones(cleanPoint)\n",
    "        pointsFeatures.append(bookIds[i])\n",
    "        for z in range (0, len(zones)):\n",
    "            #calc some features\n",
    "            #Then add them\n",
    "            zone = zones[z]\n",
    "            binaryZone = makeBinary(zone)\n",
    "            zoneMag = sum(sum(binaryZone))\n",
    "            (sobelX, sobelY) = makeSobel(binaryZone)\n",
    "            abssobx = int(sum(sum(abs(sobelX))))\n",
    "            abssoby = int(sum(sum(abs(sobelY))))\n",
    "            pointsFeatures.append(zoneMag)\n",
    "            pointsFeatures.append(abssobx)\n",
    "            pointsFeatures.append(abssoby)\n",
    "\n",
    "        calcFeatures.append(pointsFeatures)\n",
    "    return calcFeatures\n",
    "        \n",
    "        \n",
    "    \n",
    "    "
   ]
  },
  {
   "cell_type": "code",
   "execution_count": 17,
   "metadata": {
    "collapsed": false
   },
   "outputs": [
    {
     "name": "stdout",
     "output_type": "stream",
     "text": [
      "10,000 features completed\n",
      "10,000 features completed\n",
      "10,000 features completed\n",
      "10,000 features completed\n",
      "10,000 features completed\n"
     ]
    }
   ],
   "source": [
    "traingingFeatures = calcFeat(X_train)\n"
   ]
  },
  {
   "cell_type": "code",
   "execution_count": 18,
   "metadata": {
    "collapsed": false
   },
   "outputs": [
    {
     "name": "stdout",
     "output_type": "stream",
     "text": [
      "10,000 features completed\n",
      "10,000 features completed\n"
     ]
    }
   ],
   "source": [
    "cvFeatures = calcFeat(X_test)"
   ]
  },
  {
   "cell_type": "code",
   "execution_count": 19,
   "metadata": {
    "collapsed": true
   },
   "outputs": [],
   "source": [
    "# Random forest from these features :D"
   ]
  },
  {
   "cell_type": "code",
   "execution_count": 5,
   "metadata": {
    "collapsed": false
   },
   "outputs": [
    {
     "data": {
      "text/plain": [
       "RandomForestClassifier(bootstrap=True, class_weight=None, criterion='gini',\n",
       "            max_depth=None, max_features='auto', max_leaf_nodes=None,\n",
       "            min_impurity_split=1e-07, min_samples_leaf=1,\n",
       "            min_samples_split=2, min_weight_fraction_leaf=0.0,\n",
       "            n_estimators=250, n_jobs=1, oob_score=False, random_state=None,\n",
       "            verbose=0, warm_start=False)"
      ]
     },
     "execution_count": 5,
     "metadata": {},
     "output_type": "execute_result"
    }
   ],
   "source": [
    "from sklearn.ensemble import RandomForestClassifier\n",
    "\n",
    "forest = RandomForestClassifier(n_estimators=250)\n",
    "forest.fit(newtrainingPixmaps, trainingClasses)\n",
    "#forest.fit(traingingFeatures, y_train)"
   ]
  },
  {
   "cell_type": "code",
   "execution_count": 6,
   "metadata": {
    "collapsed": false
   },
   "outputs": [],
   "source": [
    "pred = forest.predict(newTestPixmaps)"
   ]
  },
  {
   "cell_type": "code",
   "execution_count": 7,
   "metadata": {
    "collapsed": false
   },
   "outputs": [
    {
     "name": "stdout",
     "output_type": "stream",
     "text": [
      "3\n"
     ]
    }
   ],
   "source": [
    "print(3)"
   ]
  },
  {
   "cell_type": "code",
   "execution_count": 8,
   "metadata": {
    "collapsed": false
   },
   "outputs": [],
   "source": [
    "toSub = []\n",
    "\n",
    "for i in range (0,len(newTestPixmaps)):\n",
    "    temp = []\n",
    "    temp.append(int(allTestData[:,0][i]))\n",
    "    temp.append(int(pred[i]))\n",
    "    toSub.append(temp)\n"
   ]
  },
  {
   "cell_type": "code",
   "execution_count": 9,
   "metadata": {
    "collapsed": false
   },
   "outputs": [
    {
     "name": "stdout",
     "output_type": "stream",
     "text": [
      "3\n"
     ]
    }
   ],
   "source": [
    "print(3)"
   ]
  },
  {
   "cell_type": "code",
   "execution_count": 11,
   "metadata": {
    "collapsed": false
   },
   "outputs": [],
   "source": [
    "import csv\n",
    "writer = csv.writer(open(\"ZonesWithRFTest.csv\", \"wb\"))\n",
    "writer.writerows(toSub)\n",
    "#writer.close()"
   ]
  },
  {
   "cell_type": "code",
   "execution_count": null,
   "metadata": {
    "collapsed": true
   },
   "outputs": [],
   "source": []
  },
  {
   "cell_type": "code",
   "execution_count": null,
   "metadata": {
    "collapsed": false
   },
   "outputs": [],
   "source": [
    "# Now build a classifier\n",
    "# Lets go for MLP\n",
    "from sklearn.neural_network import MLPClassifier\n",
    "clf = MLPClassifier(algorithm='adam', alpha=1e-5, hidden_layer_sizes=(85), random_state=1)\n",
    "clf.fit(traingingFeatures, y_train)\n",
    "clf.score(cvFeatures, y_test) \n",
    "# Layer of size 66 -> 0.610\n",
    "# Layer of size 50 -> 0.597"
   ]
  },
  {
   "cell_type": "code",
   "execution_count": null,
   "metadata": {
    "collapsed": true
   },
   "outputs": [],
   "source": [
    "# Test model on itself (crazy thought, to remove outliers?)\n",
    "predicitonOfTraining = clf.predict(traingingFeatures)"
   ]
  },
  {
   "cell_type": "code",
   "execution_count": null,
   "metadata": {
    "collapsed": false
   },
   "outputs": [],
   "source": [
    "correct = 0\n",
    "correctFeatures = []\n",
    "correctClass = []\n",
    "for i in range (0, len(traingingFeatures)):\n",
    "    if y_train[i] == predicitonOfTraining[i] :\n",
    "        correctFeatures.append(traingingFeatures[i])\n",
    "        correctClass.append(predicitonOfTraining[i])\n",
    "        correct += 1\n",
    "print (correct)\n",
    "print (len(traingingFeatures))"
   ]
  },
  {
   "cell_type": "code",
   "execution_count": null,
   "metadata": {
    "collapsed": false
   },
   "outputs": [],
   "source": [
    "test = np.repeat(0,98)\n",
    "test[1] = 4\n",
    "print(test[1])"
   ]
  },
  {
   "cell_type": "code",
   "execution_count": null,
   "metadata": {
    "collapsed": false
   },
   "outputs": [],
   "source": [
    "# Crazy thought : retrain on correct\n",
    "from sklearn.neural_network import MLPClassifier\n",
    "clf = MLPClassifier(algorithm='adam', alpha=1e-5, hidden_layer_sizes=(60), random_state=1)\n",
    "clf.fit(correctFeatures, correctClass)\n",
    "clf.score(cvFeatures, y_test) "
   ]
  },
  {
   "cell_type": "code",
   "execution_count": null,
   "metadata": {
    "collapsed": false
   },
   "outputs": [],
   "source": [
    "allTestData = np.genfromtxt('test.csv', delimiter = ',')\n",
    "testIds = allTestData[:,0]\n",
    "testPixmaps = allTestData[:,9:438]\n"
   ]
  },
  {
   "cell_type": "code",
   "execution_count": null,
   "metadata": {
    "collapsed": false
   },
   "outputs": [],
   "source": [
    "testFeatures = calcFeat(testPixmaps)"
   ]
  },
  {
   "cell_type": "code",
   "execution_count": null,
   "metadata": {
    "collapsed": true
   },
   "outputs": [],
   "source": [
    "prediciton = clf.predict(testFeatures)"
   ]
  },
  {
   "cell_type": "code",
   "execution_count": null,
   "metadata": {
    "collapsed": false
   },
   "outputs": [],
   "source": [
    "results = []\n",
    "for i in range (0, len(testFeatures)) :\n",
    "    temp = []\n",
    "    temp.append(int(testIds[i]))\n",
    "    temp.append(int(prediciton[i]))\n",
    "    results.append(temp)"
   ]
  },
  {
   "cell_type": "code",
   "execution_count": null,
   "metadata": {
    "collapsed": false
   },
   "outputs": [],
   "source": [
    "print results[0]"
   ]
  },
  {
   "cell_type": "code",
   "execution_count": null,
   "metadata": {
    "collapsed": true
   },
   "outputs": [],
   "source": [
    "import csv\n",
    "\n",
    "with open(\"output2.csv\", \"wb\") as f:\n",
    "    writer = csv.writer(f)\n",
    "    writer.writerows(results)"
   ]
  },
  {
   "cell_type": "code",
   "execution_count": null,
   "metadata": {
    "collapsed": false
   },
   "outputs": [],
   "source": [
    "from sklearn.neighbors import NearestNeighbors\n",
    "nbrs = NearestNeighbors(n_neighbors = 5, algorithm='ball_tree').fit(traingingFeatures)\n",
    "distances, indices = nbrs.kneighbors(np.array(cvFeatures))"
   ]
  },
  {
   "cell_type": "code",
   "execution_count": null,
   "metadata": {
    "collapsed": false
   },
   "outputs": [],
   "source": [
    "classification = []\n",
    "totalCorrect = 0\n",
    "for i in range (0,len(indices)):\n",
    "    nearestPoints = indices[i]\n",
    "    closestPoints = []\n",
    "    for j in range (0,5) :\n",
    "        closestPoints.append(y_train[nearestPoints[j]])\n",
    "        \n",
    "    from collections import Counter\n",
    "    data = Counter(closestPoints)\n",
    "    classification.append(data.most_common(1))  # Returns the highest occurring item\n",
    "\n",
    "classs = classification[3]\n",
    "#print (classs)\n",
    "#print (classs[0][0])\n",
    "for i in range (0,len(indices)) :\n",
    "    if (classification[i][0][0] == y_test[i]):\n",
    "      totalCorrect += 1\n",
    "\n",
    "print (totalCorrect)\n",
    "print(len(indices))"
   ]
  },
  {
   "cell_type": "code",
   "execution_count": null,
   "metadata": {
    "collapsed": true
   },
   "outputs": [],
   "source": []
  }
 ],
 "metadata": {
  "anaconda-cloud": {},
  "kernelspec": {
   "display_name": "Python [conda env:tensorflow]",
   "language": "python",
   "name": "conda-env-tensorflow-py"
  },
  "language_info": {
   "codemirror_mode": {
    "name": "ipython",
    "version": 2
   },
   "file_extension": ".py",
   "mimetype": "text/x-python",
   "name": "python",
   "nbconvert_exporter": "python",
   "pygments_lexer": "ipython2",
   "version": "2.7.12"
  }
 },
 "nbformat": 4,
 "nbformat_minor": 0
}
