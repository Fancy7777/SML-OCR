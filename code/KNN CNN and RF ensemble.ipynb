{
 "cells": [
  {
   "cell_type": "code",
   "execution_count": 1,
   "metadata": {
    "collapsed": false
   },
   "outputs": [
    {
     "name": "stderr",
     "output_type": "stream",
     "text": [
      "/home/alex/.local/lib/python2.7/site-packages/sklearn/cross_validation.py:43: DeprecationWarning: This module was deprecated in version 0.18 in favor of the model_selection module into which all the refactored classes and functions are moved. Also note that the interface of the new CV iterators are different from that of this module. This module will be removed in 0.20.\n",
      "  \"This module will be removed in 0.20.\", DeprecationWarning)\n"
     ]
    }
   ],
   "source": [
    "#%matplotlib inline\n",
    "import numpy as np\n",
    "#import matplotlib.pyplot as plt\n",
    "from sklearn import cross_validation\n",
    "import tensorflow as tf\n",
    "import random"
   ]
  },
  {
   "cell_type": "code",
   "execution_count": 14,
   "metadata": {
    "collapsed": true
   },
   "outputs": [],
   "source": [
    "# DONT RUN\n",
    "\n",
    "#trainData=np.genfromtxt('train.csv',delimiter=',')\n",
    "testData=np.genfromtxt('test.csv',delimiter=',')\n",
    "#trainingPixmaps=trainData[:,9:438]/255"
   ]
  },
  {
   "cell_type": "code",
   "execution_count": 10,
   "metadata": {
    "collapsed": true
   },
   "outputs": [],
   "source": [
    "trainData = trainData.astype(int)\n",
    "testData = testData.astype(int)"
   ]
  },
  {
   "cell_type": "code",
   "execution_count": 13,
   "metadata": {
    "collapsed": true
   },
   "outputs": [],
   "source": [
    "# NEVER RE RUN . SIMPLY LOAD FROM THE FILES AS BELOW\n",
    "X_train, X_test, y_train, y_test = cross_validation.train_test_split (trainData, trainData[:,1], \n",
    "                                                                      test_size=0.25, random_state=0)\n",
    "np.savetxt('ensemble/X_train.txt', X_train, delimiter=',')\n",
    "np.savetxt('ensemble/X_test.txt', X_test, delimiter=',') \n",
    "np.savetxt('ensemble/y_train.txt', y_train, delimiter=',') \n",
    "np.savetxt('ensemble/y_test.txt', y_test, delimiter=',') "
   ]
  },
  {
   "cell_type": "code",
   "execution_count": 2,
   "metadata": {
    "collapsed": true
   },
   "outputs": [],
   "source": [
    "X_train = np.loadtxt('ensemble/X_train.txt', delimiter=',')\n",
    "X_test = np.loadtxt('ensemble/X_test.txt', delimiter=',')\n",
    "y_train = np.loadtxt('ensemble/y_train.txt', delimiter=',')\n",
    "y_test = np.loadtxt('ensemble/y_test.txt', delimiter=',')"
   ]
  },
  {
   "cell_type": "code",
   "execution_count": 24,
   "metadata": {
    "collapsed": false
   },
   "outputs": [
    {
     "data": {
      "text/plain": [
       "RandomForestClassifier(bootstrap=True, class_weight=None, criterion='gini',\n",
       "            max_depth=None, max_features='auto', max_leaf_nodes=None,\n",
       "            min_impurity_split=1e-07, min_samples_leaf=1,\n",
       "            min_samples_split=2, min_weight_fraction_leaf=0.0,\n",
       "            n_estimators=350, n_jobs=1, oob_score=False, random_state=None,\n",
       "            verbose=0, warm_start=False)"
      ]
     },
     "execution_count": 24,
     "metadata": {},
     "output_type": "execute_result"
    }
   ],
   "source": [
    "## Don't re run, just load from file :)\n",
    "\n",
    "from sklearn.ensemble import RandomForestClassifier\n",
    "\n",
    "forest = RandomForestClassifier(n_estimators=350)\n",
    "forest.fit(X_train[:, 9:438], y_train)"
   ]
  },
  {
   "cell_type": "code",
   "execution_count": 25,
   "metadata": {
    "collapsed": false
   },
   "outputs": [],
   "source": [
    "RFPred = forest.predict(X_test[:,9:438])"
   ]
  },
  {
   "cell_type": "code",
   "execution_count": 27,
   "metadata": {
    "collapsed": true
   },
   "outputs": [],
   "source": [
    "np.savetxt('ensemble/RFFPred', RFPred, delimiter=',')"
   ]
  },
  {
   "cell_type": "code",
   "execution_count": 31,
   "metadata": {
    "collapsed": false
   },
   "outputs": [],
   "source": [
    "test_RFPred = forest.predict(testData[:,9:438])"
   ]
  },
  {
   "cell_type": "code",
   "execution_count": 32,
   "metadata": {
    "collapsed": true
   },
   "outputs": [],
   "source": [
    "np.savetxt('ensemble/test_RFPred',test_RFPred,delimiter=',')"
   ]
  },
  {
   "cell_type": "code",
   "execution_count": 26,
   "metadata": {
    "collapsed": false
   },
   "outputs": [
    {
     "name": "stdout",
     "output_type": "stream",
     "text": [
      "0.679102696683\n"
     ]
    }
   ],
   "source": [
    "numCorect = 0\n",
    "for i in range (0, len(y_test)) :\n",
    "    if RFPred[i] == y_test[i]:\n",
    "        numCorect += 1\n",
    "print(str(float(numCorect) / float(len(y_test))))"
   ]
  },
  {
   "cell_type": "code",
   "execution_count": null,
   "metadata": {
    "collapsed": true
   },
   "outputs": [],
   "source": []
  },
  {
   "cell_type": "code",
   "execution_count": 3,
   "metadata": {
    "collapsed": false
   },
   "outputs": [],
   "source": [
    "KKNPred = np.loadtxt('ensemble/predCosKNN.txt',delimiter=',')\n",
    "RFPred = np.loadtxt('ensemble/RFFPred', delimiter=',')\n",
    "CNNPred = np.loadtxt('ensemble/CNNPred.txt',delimiter=',')"
   ]
  },
  {
   "cell_type": "code",
   "execution_count": 4,
   "metadata": {
    "collapsed": false
   },
   "outputs": [
    {
     "name": "stdout",
     "output_type": "stream",
     "text": [
      "KNN got 0.682682364172\n",
      "RF got 0.679102696683\n",
      "CNN got 0.679182244849\n"
     ]
    }
   ],
   "source": [
    "# Calc ind. predictions \n",
    "KNNCorrect = 0\n",
    "RFCorrect = 0\n",
    "CNNCorrect = 0\n",
    "for i in range (0, len(X_test)) :\n",
    "    if KKNPred[i] == y_test[i] :\n",
    "        KNNCorrect += 1\n",
    "    if RFPred[i] == y_test[i] :\n",
    "        RFCorrect += 1\n",
    "    if CNNPred[i] == y_test[i] :\n",
    "        CNNCorrect += 1\n",
    "    \n",
    "print(\"KNN got \" + str(float(KNNCorrect) / float(len(X_test))))\n",
    "print(\"RF got \" + str(float(RFCorrect) / float(len(X_test))))\n",
    "print(\"CNN got \" +  str(float(CNNCorrect) / float(len(X_test))))\n"
   ]
  },
  {
   "cell_type": "code",
   "execution_count": 7,
   "metadata": {
    "collapsed": false
   },
   "outputs": [
    {
     "name": "stdout",
     "output_type": "stream",
     "text": [
      "Simple ensemble got 0.690318988147\n"
     ]
    }
   ],
   "source": [
    "# Simple ensemble\n",
    "simpePreds = []\n",
    "smplCorrect = 0\n",
    "for i in range (0, len(X_test)) :\n",
    "    singleKNNPred = KKNPred[i]\n",
    "    singleRFPred = RFPred[i]\n",
    "    singleCNNPred = CNNPred[i]\n",
    "    thePred = 46\n",
    "    if (singleKNNPred == singleRFPred) :\n",
    "        thePred = singleKNNPred\n",
    "    else :\n",
    "        if singleRFPred == singleCNNPred :\n",
    "            thePred = singleRFPred\n",
    "        else :\n",
    "            # No majority, choose best classifier\n",
    "            thePred = singleKNNPred\n",
    "    simpePreds.append(thePred)\n",
    "    if thePred == y_test[i] :\n",
    "        smplCorrect += 1\n",
    "        \n",
    "print(\"Simple ensemble got \" + str(float(smplCorrect) / float(len(X_test))))"
   ]
  },
  {
   "cell_type": "code",
   "execution_count": 18,
   "metadata": {
    "collapsed": false
   },
   "outputs": [],
   "source": [
    "# Complex ensemble based on correct percentage\n",
    "KNNpercents = getPercentageCorrect(KKNPred)\n",
    "RFpercents = getPercentageCorrect(RFPred)\n",
    "CNNpercents = getPercentageCorrect(CNNPred)"
   ]
  },
  {
   "cell_type": "code",
   "execution_count": 17,
   "metadata": {
    "collapsed": false
   },
   "outputs": [
    {
     "name": "stdout",
     "output_type": "stream",
     "text": [
      "829\n",
      "Complex ensemble got 0.687693898656\n"
     ]
    }
   ],
   "source": [
    "# More complex ensemble\n",
    "cmplxCorrect = 0\n",
    "numAllDiff = 0\n",
    "for i in range (0, len(X_test)) :\n",
    "    singleKNNPred = KKNPred[i]\n",
    "    singleRFPred = RFPred[i]\n",
    "    singleCNNPred = CNNPred[i]\n",
    "    thePred = 46\n",
    "    if (singleKNNPred == singleRFPred) :\n",
    "        thePred = singleKNNPred\n",
    "    else :\n",
    "        if singleRFPred == singleCNNPred :\n",
    "            thePred = singleRFPred\n",
    "        else :\n",
    "            numAllDiff += 1\n",
    "            # No majority, choose most likely one\n",
    "            KNNperc = KNNpercents[int(singleKNNPred)]\n",
    "            RFperc = RFpercents[int(singleRFPred)]\n",
    "            CNNperc = CNNpercents[int(singleCNNPred)]\n",
    "            if (KNNperc > RFperc and KNNperc > CNNperc) :\n",
    "                thePred = singleKNNPred #KNN is most likely to be right\n",
    "            else :\n",
    "                if (RFperc > CNNperc) :\n",
    "                    thePred = singleRFPred\n",
    "                else :\n",
    "                    thePred = singleCNNPred\n",
    "\n",
    "    if thePred == y_test[i] :\n",
    "        cmplxCorrect += 1\n",
    "        \n",
    "print(numAllDiff)\n",
    "print(\"Complex ensemble got \" + str(float(cmplxCorrect) / float(len(X_test))))"
   ]
  },
  {
   "cell_type": "code",
   "execution_count": null,
   "metadata": {
    "collapsed": true
   },
   "outputs": [],
   "source": [
    "# Below is code that we did experiments with, but did not form part of the final version. "
   ]
  },
  {
   "cell_type": "code",
   "execution_count": 18,
   "metadata": {
    "collapsed": false
   },
   "outputs": [
    {
     "name": "stdout",
     "output_type": "stream",
     "text": [
      "Derek got 0.683955134834\n"
     ]
    }
   ],
   "source": [
    "# Dereks ensemble\n",
    "derekCorrect = 0\n",
    "for i in range (0, len(X_test)) :\n",
    "    singleKNNPred = KKNPred[i]\n",
    "    singleRFPred = RFPred[i]\n",
    "    singleCNNPred = CNNPred[i]\n",
    "    thePred = 46\n",
    " \n",
    "    \n",
    "    KNNperc = KNNpercents[int(singleKNNPred)]\n",
    "    RFperc = RFpercents[int(singleRFPred)]\n",
    "    CNNperc = CNNpercents[int(singleCNNPred)]\n",
    "    if (KNNperc > RFperc and KNNperc > CNNperc) :\n",
    "        thePred = singleKNNPred #KNN is most likely to be right\n",
    "    else :\n",
    "        if (RFperc > CNNperc) :\n",
    "            thePred = singleRFPred\n",
    "        else :\n",
    "            thePred = singleCNNPred\n",
    "\n",
    "    if thePred == y_test[i] :\n",
    "        derekCorrect += 1\n",
    "\n",
    "        \n",
    "print(\"Derek got \" + str(float(derekCorrect) / float(len(X_test))))"
   ]
  },
  {
   "cell_type": "code",
   "execution_count": 19,
   "metadata": {
    "collapsed": false
   },
   "outputs": [
    {
     "name": "stdout",
     "output_type": "stream",
     "text": [
      "Alex got 0.671147880041\n"
     ]
    }
   ],
   "source": [
    "# Alexs ensemble - class freq\n",
    "alexCorrect = 0\n",
    "for i in range (0, len(X_test)) :\n",
    "    singleKNNPred = KKNPred[i]\n",
    "    singleRFPred = RFPred[i]\n",
    "    singleCNNPred = CNNPred[i]\n",
    "    thePred = 46\n",
    "    if (singleKNNPred == singleRFPred) :\n",
    "        thePred = singleKNNPred\n",
    "    else :\n",
    "        if singleRFPred == singleCNNPred :\n",
    "            thePred = singleRFPred\n",
    "        else :\n",
    "            # No majority, choose most populat example\n",
    "            thePred = getMostPopular(singleKNNPred,singleRFPred,singleCNNPred)\n",
    "    if thePred == y_test[i] :\n",
    "        alexCorrect += 1\n",
    "\n",
    "        \n",
    "print(\"Alex got \" + str(float(alexCorrect) / float(len(X_test))))"
   ]
  },
  {
   "cell_type": "code",
   "execution_count": 20,
   "metadata": {
    "collapsed": false
   },
   "outputs": [
    {
     "name": "stdout",
     "output_type": "stream",
     "text": [
      "Unless all same ensemble got 0.682682364172\n"
     ]
    }
   ],
   "source": [
    "# Unless all the same ensemble\n",
    "uasCorrect = 0\n",
    "for i in range (0, len(X_test)) :\n",
    "    singleKNNPred = KKNPred[i]\n",
    "    singleRFPred = RFPred[i]\n",
    "    singleCNNPred = CNNPred[i]\n",
    "    thePred = 46\n",
    "    if (singleKNNPred == singleRFPred and singleKNNPred == singleCNNPred) :\n",
    "        thePred = singleKNNPred\n",
    "    else :\n",
    "        # No complete majority, choose best classifier\n",
    "        thePred = singleKNNPred\n",
    "    if thePred == y_test[i] :\n",
    "        uasCorrect += 1\n",
    "        \n",
    "print(\"Unless all same ensemble got \" + str(float(uasCorrect) / float(len(X_test))))"
   ]
  },
  {
   "cell_type": "code",
   "execution_count": 10,
   "metadata": {
    "collapsed": true
   },
   "outputs": [],
   "source": [
    "classFreqs = np.zeros(98)\n",
    "for i in range (0, len(y_train)):\n",
    "    classFreqs[int(y_train[i])] += 1"
   ]
  },
  {
   "cell_type": "code",
   "execution_count": 17,
   "metadata": {
    "collapsed": true
   },
   "outputs": [],
   "source": [
    "def getMostPopular(class1, class2, class3) :\n",
    "    class1Freq = classFreqs[int(class1)]\n",
    "    class2Freq = classFreqs[int(class2)]\n",
    "    class3Freq = classFreqs[int(class3)]\n",
    "    if(class1Freq > class2Freq and class1Freq > class3Freq) :\n",
    "        return class1\n",
    "    else :\n",
    "        if class2Freq > class3Freq :\n",
    "            return class2Freq\n",
    "        else :\n",
    "            return class3Freq"
   ]
  },
  {
   "cell_type": "code",
   "execution_count": 16,
   "metadata": {
    "collapsed": false
   },
   "outputs": [],
   "source": [
    "def getPercentageCorrect(pred) :\n",
    "    counts = np.zeros(98)\n",
    "    countsCorrect = np.zeros(98)\n",
    "    for i in range (0, len(pred)) :\n",
    "        thePred = int(pred[i])\n",
    "        theRealValue = y_test[i]\n",
    "        counts[thePred] += 1\n",
    "        if (thePred == theRealValue) :\n",
    "            countsCorrect[thePred] += 1\n",
    "    percentages = []\n",
    "    for i in range(0,98) :\n",
    "        if(counts[i] == 0) :\n",
    "            percentages.append(0.0)\n",
    "        else :\n",
    "            percentages.append(float(countsCorrect[i]) / float(counts[i]))\n",
    "    return percentages\n",
    "        "
   ]
  },
  {
   "cell_type": "code",
   "execution_count": null,
   "metadata": {
    "collapsed": true
   },
   "outputs": [],
   "source": []
  },
  {
   "cell_type": "code",
   "execution_count": 10,
   "metadata": {
    "collapsed": false
   },
   "outputs": [],
   "source": [
    "testRFPred = np.loadtxt('ensemble/test_RFPred',delimiter=',')"
   ]
  },
  {
   "cell_type": "code",
   "execution_count": 11,
   "metadata": {
    "collapsed": true
   },
   "outputs": [],
   "source": [
    "testCNNPred = np.loadtxt('ensemble/TestCNNPred.txt',delimiter=',')"
   ]
  },
  {
   "cell_type": "code",
   "execution_count": 12,
   "metadata": {
    "collapsed": true
   },
   "outputs": [],
   "source": [
    "testKNNPred = np.loadtxt('ensemble/testKNN.txt',delimiter=',')\n",
    "\n"
   ]
  },
  {
   "cell_type": "code",
   "execution_count": null,
   "metadata": {
    "collapsed": true
   },
   "outputs": [],
   "source": []
  },
  {
   "cell_type": "code",
   "execution_count": null,
   "metadata": {
    "collapsed": true
   },
   "outputs": [],
   "source": [
    "# More complex ensemble\n",
    "cmplxCorrect = 0\n",
    "numAllDiff = 0\n",
    "for i in range (0, len(X_test)) :\n",
    "    singleKNNPred = KKNPred[i]\n",
    "    singleRFPred = RFPred[i]\n",
    "    singleCNNPred = CNNPred[i]\n",
    "    thePred = 46\n",
    "    if (singleKNNPred == singleRFPred) :\n",
    "        thePred = singleKNNPred\n",
    "    else :\n",
    "        if singleRFPred == singleCNNPred :\n",
    "            thePred = singleRFPred\n",
    "        else :\n",
    "            numAllDiff += 1\n",
    "            # No majority, choose most likely one\n",
    "            KNNperc = KNNpercents[int(singleKNNPred)]\n",
    "            RFperc = RFpercents[int(singleRFPred)]\n",
    "            CNNperc = CNNpercents[int(singleCNNPred)]\n",
    "            if (KNNperc > RFperc and KNNperc > CNNperc) :\n",
    "                thePred = singleKNNPred #KNN is most likely to be right\n",
    "            else :\n",
    "                if (RFperc > CNNperc) :\n",
    "                    thePred = singleRFPred\n",
    "                else :\n",
    "                    thePred = singleCNNPred\n",
    "\n",
    "    if thePred == y_test[i] :\n",
    "        cmplxCorrect += 1\n",
    "        \n",
    "print(numAllDiff)\n",
    "print(\"Complex ensemble got \" + str(float(cmplxCorrect) / float(len(X_test))))"
   ]
  },
  {
   "cell_type": "code",
   "execution_count": null,
   "metadata": {
    "collapsed": true
   },
   "outputs": [],
   "source": []
  },
  {
   "cell_type": "code",
   "execution_count": null,
   "metadata": {
    "collapsed": true
   },
   "outputs": [],
   "source": []
  },
  {
   "cell_type": "code",
   "execution_count": null,
   "metadata": {
    "collapsed": true
   },
   "outputs": [],
   "source": []
  },
  {
   "cell_type": "code",
   "execution_count": 19,
   "metadata": {
    "collapsed": false
   },
   "outputs": [],
   "source": [
    "# Simple ensemble for testData\n",
    "smplCorrect = 0\n",
    "simpleTestPreds = []\n",
    "for i in range (0, len(testData)) :\n",
    "    singleKNNPred = testKNNPred[i]\n",
    "    singleRFPred = testRFPred[i]\n",
    "    singleCNNPred = testCNNPred[i]\n",
    "    thePred = 46\n",
    "    if (singleKNNPred == singleRFPred) :\n",
    "        thePred = singleKNNPred\n",
    "    else :\n",
    "        if singleRFPred == singleCNNPred :\n",
    "            thePred = singleRFPred\n",
    "        else :\n",
    "            # No majority, choose most likely one\n",
    "            KNNperc = KNNpercents[int(singleKNNPred)]\n",
    "            RFperc = RFpercents[int(singleRFPred)]\n",
    "            CNNperc = CNNpercents[int(singleCNNPred)]\n",
    "            if (KNNperc > RFperc and KNNperc > CNNperc) :\n",
    "                thePred = singleKNNPred #KNN is most likely to be right\n",
    "            else :\n",
    "                if (RFperc > CNNperc) :\n",
    "                    thePred = singleRFPred\n",
    "                else :\n",
    "                    thePred = singleCNNPred\n",
    "    simpleTestPreds.append(thePred)\n",
    "        \n",
    "testIds = testData[:, 0]\n",
    "\n",
    "resultsForCSV = []\n",
    "for i in range(0, len(testIds)) :\n",
    "    temp = []\n",
    "    theId = int(testIds[i])\n",
    "    theClass = int(simpleTestPreds[i])\n",
    "    temp.append(theId)\n",
    "    temp.append(theClass)\n",
    "    resultsForCSV.append(temp)\n",
    "\n",
    "    "
   ]
  },
  {
   "cell_type": "code",
   "execution_count": 20,
   "metadata": {
    "collapsed": false
   },
   "outputs": [],
   "source": [
    "import csv\n",
    "\n",
    "with open(\"KNNCNNRF_Ensemble_Complex.csv\", \"wb\") as f:\n",
    "    writer = csv.writer(f)\n",
    "    writer.writerows(resultsForCSV)"
   ]
  },
  {
   "cell_type": "code",
   "execution_count": null,
   "metadata": {
    "collapsed": true
   },
   "outputs": [],
   "source": []
  },
  {
   "cell_type": "code",
   "execution_count": null,
   "metadata": {
    "collapsed": true
   },
   "outputs": [],
   "source": []
  },
  {
   "cell_type": "code",
   "execution_count": 23,
   "metadata": {
    "collapsed": false
   },
   "outputs": [
    {
     "name": "stdout",
     "output_type": "stream",
     "text": [
      "By Book ensemble got 0.687693898656\n"
     ]
    }
   ],
   "source": [
    "# By Book on tiebreak ensemble\n",
    "byBookCorrect = 0\n",
    "for i in range (0, len(X_test)) :\n",
    "    singleKNNPred = KKNPred[i]\n",
    "    singleRFPred = RFPred[i]\n",
    "    singleCNNPred = CNNPred[i]\n",
    "    thePred = 46\n",
    "    if (singleKNNPred == singleRFPred) :\n",
    "        thePred = singleKNNPred\n",
    "    else :\n",
    "        if singleRFPred == singleCNNPred :\n",
    "            thePred = singleRFPred\n",
    "        else :\n",
    "            # No majority, choose by the best classifier on the book\n",
    "            bookNum = int(X_test[i][2])\n",
    "            byBookKNN = CNNCorrectByBook[bookNum]\n",
    "            byBookRF = RFCorrectByBook[bookNum]\n",
    "            byBookCNN = KNNCorrectByBook[bookNum]\n",
    "            if byBookKNN > byBookRF and byBookKNN > byBookCNN:\n",
    "                thePred = singleKNNPred\n",
    "            else :\n",
    "                if byBookRF > byBookCNN :\n",
    "                    thePred = singleRFPred\n",
    "                else :\n",
    "                    thePred = singleCNNPred\n",
    "            \n",
    "    if thePred == y_test[i] :\n",
    "        byBookCorrect += 1\n",
    "        \n",
    "print(\"By Book ensemble got \" + str(float(byBookCorrect) / float(len(X_test))))"
   ]
  },
  {
   "cell_type": "code",
   "execution_count": null,
   "metadata": {
    "collapsed": true
   },
   "outputs": [],
   "source": [
    "# Look into accuaracy by book num"
   ]
  },
  {
   "cell_type": "code",
   "execution_count": 6,
   "metadata": {
    "collapsed": true
   },
   "outputs": [],
   "source": [
    "def getPredSimple(singleKNNPred,singleRFPred,singleCNNPred):\n",
    "    thePred = 46\n",
    "    if (singleKNNPred == singleRFPred) :\n",
    "        thePred = singleKNNPred\n",
    "    else :\n",
    "        if singleRFPred == singleCNNPred :\n",
    "            thePred = singleRFPred\n",
    "        else :\n",
    "            # No majority, choose best classifier\n",
    "            thePred = singleKNNPred\n",
    "    return thePred"
   ]
  },
  {
   "cell_type": "code",
   "execution_count": 9,
   "metadata": {
    "collapsed": false
   },
   "outputs": [
    {
     "name": "stdout",
     "output_type": "stream",
     "text": [
      "For book number 0\n",
      "KNN got 0.43880455408\n",
      "RF got 0.425996204934\n",
      "CNN got 0.415559772296\n",
      "Simple got 0.44165085389\n",
      "\n",
      "For book number 1\n",
      "KNN got 0.565656565657\n",
      "RF got 0.56632996633\n",
      "CNN got 0.563636363636\n",
      "Simple got 0.576430976431\n",
      "\n",
      "For book number 2\n",
      "KNN got 0.862330623306\n",
      "RF got 0.862330623306\n",
      "CNN got 0.866395663957\n",
      "Simple got 0.868292682927\n",
      "\n",
      "For book number 3\n",
      "KNN got 0.774016468435\n",
      "RF got 0.773101555352\n",
      "CNN got 0.760292772187\n",
      "Simple got 0.783165599268\n",
      "\n",
      "For book number 4\n",
      "KNN got 0.60412686282\n",
      "RF got 0.604508979748\n",
      "CNN got 0.602980512037\n",
      "Simple got 0.608712265953\n",
      "\n",
      "For book number 5\n",
      "KNN got 0.765525982256\n",
      "RF got 0.753485424588\n",
      "CNN got 0.772496831432\n",
      "Simple got 0.7845373891\n",
      "\n"
     ]
    }
   ],
   "source": [
    "# Calc ind. predictions \n",
    "KNNCorrectByBook = np.zeros(6)\n",
    "RFCorrectByBook = np.zeros(6)\n",
    "CNNCorrectByBook = np.zeros(6)\n",
    "SimpleCorrectByBook = np.zeros(6)\n",
    "numByBook = np.zeros(6)\n",
    "\n",
    "for i in range (0, len(X_test)) :\n",
    "    bookNum = int(X_test[i][2])\n",
    "    numByBook[bookNum] += 1\n",
    "    if KKNPred[i] == y_test[i] :\n",
    "        KNNCorrectByBook[bookNum] += 1\n",
    "    if RFPred[i] == y_test[i] :\n",
    "        RFCorrectByBook[bookNum] += 1\n",
    "    if CNNPred[i] == y_test[i] :\n",
    "        CNNCorrectByBook[bookNum] += 1\n",
    "    if simpePreds[i] == y_test[i] :\n",
    "        SimpleCorrectByBook[bookNum] += 1\n",
    "for i in range(0, 6):\n",
    "    KNNCorForBook = KNNCorrectByBook[i]\n",
    "    RFCorForBook = RFCorrectByBook[i]\n",
    "    CNNCorForBook = CNNCorrectByBook[i]\n",
    "    SimpleCorForBook  = SimpleCorrectByBook[i]\n",
    "    numInBook = numByBook[i]\n",
    "    print(\"For book number \" + str(i))\n",
    "    print(\"KNN got \" + str(float(KNNCorForBook) / float(numInBook)))\n",
    "    print(\"RF got \" + str(float(RFCorForBook) / float(numInBook)))\n",
    "    print(\"CNN got \" +  str(float(CNNCorForBook) / float(numInBook)))\n",
    "    print(\"Simple got \" +  str(float(SimpleCorForBook) / float(numInBook)) + \"\\n\")"
   ]
  },
  {
   "cell_type": "code",
   "execution_count": null,
   "metadata": {
    "collapsed": true
   },
   "outputs": [],
   "source": []
  },
  {
   "cell_type": "code",
   "execution_count": 76,
   "metadata": {
    "collapsed": true
   },
   "outputs": [],
   "source": [
    "# Simple ensemble anaysis of what is wrong\n",
    "smplCorrect = 0\n",
    "simpleEsemblePred = []\n",
    "for i in range (0, len(X_test)) :\n",
    "    singleKNNPred = KKNPred[i]\n",
    "    singleRFPred = RFPred[i]\n",
    "    singleCNNPred = CNNPred[i]\n",
    "    thePred = 46\n",
    "    if (singleKNNPred == singleRFPred) :\n",
    "        thePred = singleKNNPred\n",
    "    else :\n",
    "        if singleRFPred == singleCNNPred :\n",
    "            thePred = singleRFPred\n",
    "        else :\n",
    "            # No majority, choose best classifier\n",
    "            thePred = singleKNNPred\n",
    "    simpleEsemblePred.append(thePred)"
   ]
  },
  {
   "cell_type": "code",
   "execution_count": 82,
   "metadata": {
    "collapsed": false
   },
   "outputs": [],
   "source": [
    "predClassWrong = []\n",
    "realClassWrong = []\n",
    "predWrongByClass = np.zeros(98)\n",
    "realWrongByClass = np.zeros(98)\n",
    "\n",
    "for i in range (0, len(simpleEsemblePred)):\n",
    "    thePred = simpleEsemblePred[i]\n",
    "    theReal = y_test[i]\n",
    "    if (thePred != theReal) :\n",
    "        predClassWrong.append(thePred)\n",
    "        realClassWrong.append(theReal)\n",
    "        predWrongByClass[int(thePred)] += 1\n",
    "        realWrongByClass[int(theReal)] += 1"
   ]
  },
  {
   "cell_type": "code",
   "execution_count": 81,
   "metadata": {
    "collapsed": false
   },
   "outputs": [
    {
     "name": "stdout",
     "output_type": "stream",
     "text": [
      "ModeResult(mode=array([ 72.]), count=array([465]))\n",
      "ModeResult(mode=array([ 68.]), count=array([333]))\n"
     ]
    }
   ],
   "source": [
    "from scipy import stats\n",
    "m = stats.mode(predClassWrong)\n",
    "print(m)\n",
    "\n",
    "m2 = stats.mode(realClassWrong)\n",
    "print(m2)"
   ]
  },
  {
   "cell_type": "code",
   "execution_count": 90,
   "metadata": {
    "collapsed": true
   },
   "outputs": [],
   "source": [
    "def getCounts(pred) :\n",
    "    counts = np.zeros(98)\n",
    "\n",
    "    for i in range (0, len(pred)) :\n",
    "        thePred = int(pred[i])\n",
    "        theRealValue = y_test[i]\n",
    "        counts[thePred] += 1\n",
    "    return counts"
   ]
  },
  {
   "cell_type": "code",
   "execution_count": 93,
   "metadata": {
    "collapsed": false
   },
   "outputs": [
    {
     "name": "stdout",
     "output_type": "stream",
     "text": [
      "For class 5 there were 0.347826086957 predicted wrong values with 207.0 values\n",
      "For class 6 there were 0.2875 predicted wrong values with 80.0 values\n",
      "For class 7 there were 0.29375 predicted wrong values with 160.0 values\n",
      "For class 64 there were 0.287912087912 predicted wrong values with 1365.0 values\n",
      "For class 65 there were 0.526315789474 predicted wrong values with 57.0 values\n",
      "For class 66 there were 0.305007587253 predicted wrong values with 659.0 values\n",
      "For class 67 there were 0.34756097561 predicted wrong values with 328.0 values\n",
      "For class 68 there were 0.279069767442 predicted wrong values with 1118.0 values\n",
      "For class 70 there were 0.212121212121 predicted wrong values with 66.0 values\n",
      "For class 71 there were 0.320512820513 predicted wrong values with 234.0 values\n",
      "For class 72 there were 0.2937460518 predicted wrong values with 1583.0 values\n",
      "For class 74 there were 0.314666666667 predicted wrong values with 750.0 values\n",
      "For class 75 there were 0.33704735376 predicted wrong values with 359.0 values\n",
      "For class 76 there were 0.328907048008 predicted wrong values with 979.0 values\n",
      "For class 77 there were 0.29107505071 predicted wrong values with 986.0 values\n",
      "For class 78 there were 0.300380228137 predicted wrong values with 263.0 values\n",
      "For class 79 there were 0.339366515837 predicted wrong values with 221.0 values\n",
      "For class 80 there were 0.355113636364 predicted wrong values with 352.0 values\n",
      "For class 81 there were 0.401041666667 predicted wrong values with 192.0 values\n",
      "For class 82 there were 0.31227217497 predicted wrong values with 823.0 values\n",
      "For class 83 there were 0.278056951424 predicted wrong values with 597.0 values\n",
      "For class 84 there were 0.372881355932 predicted wrong values with 59.0 values\n",
      "For class 86 there were 0.201581027668 predicted wrong values with 253.0 values\n",
      "For class 87 there were 0.201342281879 predicted wrong values with 149.0 values\n",
      "For class 97 there were 0.524539877301 predicted wrong values with 326.0 values\n"
     ]
    }
   ],
   "source": [
    "percentages = getPercentageCorrect(simpleEsemblePred)\n",
    "counts = getCounts(simpleEsemblePred)\n",
    "for i in range (0,98) :\n",
    "    if counts[i] > 50 :\n",
    "        print(\"For class \" + str(i) + \" there were \" + str(1 - percentages[i])\n",
    "         + \" predicted wrong values with \" + str(counts[i]) + \" values\")"
   ]
  },
  {
   "cell_type": "code",
   "execution_count": null,
   "metadata": {
    "collapsed": true
   },
   "outputs": [],
   "source": []
  },
  {
   "cell_type": "code",
   "execution_count": null,
   "metadata": {
    "collapsed": true
   },
   "outputs": [],
   "source": []
  },
  {
   "cell_type": "code",
   "execution_count": null,
   "metadata": {
    "collapsed": true
   },
   "outputs": [],
   "source": []
  },
  {
   "cell_type": "code",
   "execution_count": null,
   "metadata": {
    "collapsed": true
   },
   "outputs": [],
   "source": []
  },
  {
   "cell_type": "code",
   "execution_count": 35,
   "metadata": {
    "collapsed": false
   },
   "outputs": [
    {
     "name": "stdout",
     "output_type": "stream",
     "text": [
      "KK RF CN got us 0.752563863509 with 10726\n",
      "KK RF got us 0.348333333333 with 600\n",
      "KK CN got us 0.458745874587 with 303\n",
      "RF CN got us 0.367965367965 with 462\n",
      "KK got us 0.183333333333 with 480\n",
      "RF got us 0.114583333333 with 480\n",
      "CN got us 0.114583333333 with 480\n"
     ]
    }
   ],
   "source": [
    "# Anaysis\n",
    "# Simple ensemble\n",
    "corKKRFCN = 0\n",
    "corKKRF = 0\n",
    "corRFCN = 0\n",
    "corKKCN = 0\n",
    "wroKKRFCN = 0\n",
    "wroKKRF = 0 \n",
    "wroRFCN = 0 \n",
    "wroKKCN = 0\n",
    "\n",
    "corKK = 0\n",
    "corRF = 0\n",
    "corCN = 0\n",
    "wroKK = 0\n",
    "wroRF = 0\n",
    "wroCN = 0\n",
    "\n",
    "for i in range (0, len(X_test)) :\n",
    "    singleKNNPred = KKNPred[i]\n",
    "    singleRFPred = RFPred[i]\n",
    "    singleCNNPred = CNNPred[i]\n",
    "    corPred = y_test[i]\n",
    "    \n",
    "    if singleKNNPred == singleRFPred and singleKNNPred == singleCNNPred  : # If all same\n",
    "        if (corPred == singleKNNPred) :\n",
    "            corKKRFCN += 1\n",
    "        else :\n",
    "            wroKKRFCN += 1\n",
    "    else :\n",
    "        if singleKNNPred == singleRFPred :\n",
    "            if (corPred == singleKNNPred) :\n",
    "                corKKRF += 1\n",
    "            else :\n",
    "                wroKKRF += 1 \n",
    "        else :\n",
    "            if singleKNNPred == singleCNNPred :\n",
    "                if (corPred == singleKNNPred) :\n",
    "                    corKKCN += 1\n",
    "                else :\n",
    "                    wroKKCN += 1 \n",
    "            else :\n",
    "                if singleRFPred == singleCNNPred :\n",
    "                    if (corPred == singleRFPred) :\n",
    "                        corRFCN += 1\n",
    "                    else :\n",
    "                        wroRFCN += 1  \n",
    "                else :\n",
    "                    # None the same\n",
    "                    if singleKNNPred == corPred :\n",
    "                        corKK+=1\n",
    "                    else :\n",
    "                        wroKK += 1\n",
    "                    if singleRFPred == corPred :\n",
    "                        corRF += 1\n",
    "                    else :\n",
    "                        wroRF += 1\n",
    "                    if singleCNNPred == corPred :\n",
    "                        corCN += 1\n",
    "                    else :\n",
    "                        wroCN += 1\n",
    "\n",
    "\n",
    "                        \n",
    "                        \n",
    "print(\"KK RF CN got us \" + str(float(corKKRFCN) / float(corKKRFCN + wroKKRFCN) ) + \" with \" + str(corKKRFCN + wroKKRFCN))\n",
    "print(\"KK RF got us \" + str(float(corKKRF) / float(corKKRF + wroKKRF) ) + \" with \" + str(corKKRF + wroKKRF))\n",
    "print(\"KK CN got us \" + str(float(corKKCN) / float(corKKCN + wroKKCN) ) + \" with \" + str(corKKCN + wroKKCN))\n",
    "print(\"RF CN got us \" + str(float(corRFCN) / float(corRFCN + wroRFCN) ) + \" with \" + str(corRFCN + wroRFCN))\n",
    "print(\"KK got us \" + str(float(corKK) / float(corKK + wroKK) ) + \" with \" + str(corKK + wroKK))\n",
    "print(\"RF got us \" + str(float(corRF) / float(corRF + wroRF) ) + \" with \" + str(corRF + wroRF))\n",
    "print(\"CN got us \" + str(float(corRF) / float(corRF + wroRF) ) + \" with \" + str(corRF + wroRF))\n",
    "\n"
   ]
  },
  {
   "cell_type": "code",
   "execution_count": null,
   "metadata": {
    "collapsed": true
   },
   "outputs": [],
   "source": [
    "# So basically, we have this:\n"
   ]
  },
  {
   "cell_type": "code",
   "execution_count": 40,
   "metadata": {
    "collapsed": false
   },
   "outputs": [
    {
     "name": "stdout",
     "output_type": "stream",
     "text": [
      "480.0\n",
      "Class 64 has 32.0 examples\n",
      "Class 68 has 35.0 examples\n",
      "Class 82 has 31.0 examples\n"
     ]
    }
   ],
   "source": [
    "# Anaysis\n",
    "# Simple ensemble\n",
    "byClassMeh = np.zeros(98)\n",
    "\n",
    "for i in range (0, len(X_test)) :\n",
    "    singleKNNPred = KKNPred[i]\n",
    "    singleRFPred = RFPred[i]\n",
    "    singleCNNPred = CNNPred[i]\n",
    "    corPred = y_test[i]\n",
    "    \n",
    "    i = 0\n",
    "    \n",
    "    if singleKNNPred == singleRFPred and singleKNNPred == singleCNNPred  : # If all same\n",
    "        i = 1\n",
    "    else :\n",
    "        if singleKNNPred == singleRFPred :\n",
    "            i = 1\n",
    "        else :\n",
    "            if singleKNNPred == singleCNNPred :\n",
    "                i = 1\n",
    "            else :\n",
    "                if singleRFPred == singleCNNPred :\n",
    "                    i = 1\n",
    "                else :\n",
    "                    # None the same\n",
    "                    byClassMeh[int(corPred)] += 1\n",
    " \n",
    "\n",
    "\n",
    "\n",
    "print(sum(byClassMeh))                    \n",
    "for i in range(0, 98) :\n",
    "    if byClassMeh[i] > 30 :\n",
    "        print(\"Class \" + str(i) + \" has \" + str(byClassMeh[i]) + \" examples\")\n"
   ]
  }
 ],
 "metadata": {
  "anaconda-cloud": {},
  "kernelspec": {
   "display_name": "Python [conda env:tensorflow]",
   "language": "python",
   "name": "conda-env-tensorflow-py"
  },
  "language_info": {
   "codemirror_mode": {
    "name": "ipython",
    "version": 2
   },
   "file_extension": ".py",
   "mimetype": "text/x-python",
   "name": "python",
   "nbconvert_exporter": "python",
   "pygments_lexer": "ipython2",
   "version": "2.7.12"
  }
 },
 "nbformat": 4,
 "nbformat_minor": 1
}
