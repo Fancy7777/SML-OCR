{
 "cells": [
  {
   "cell_type": "code",
   "execution_count": 11,
   "metadata": {
    "collapsed": false
   },
   "outputs": [],
   "source": [
    "#import the library\n",
    "#%matplotlib inline\n",
    "import numpy as np\n",
    "from sklearn import cross_validation\n",
    "import tensorflow as tf\n",
    "import random\n",
    "import matplotlib.pyplot as plt"
   ]
  },
  {
   "cell_type": "code",
   "execution_count": 12,
   "metadata": {
    "collapsed": false
   },
   "outputs": [],
   "source": [
    "#import the needed data\n",
    "trainData=np.genfromtxt('train.csv',delimiter=',')\n",
    "testData=np.genfromtxt('test.csv',delimiter=',')\n",
    "trainingPixmaps=trainData[:,9:438]/255\n",
    "trainingClasses=trainData[:,1]"
   ]
  },
  {
   "cell_type": "code",
   "execution_count": 13,
   "metadata": {
    "collapsed": false
   },
   "outputs": [],
   "source": [
    "#import the test data for prediction\n",
    "testPixmaps = testData[:,9:438]/255\n",
    "testIds = testData[:,0]"
   ]
  },
  {
   "cell_type": "code",
   "execution_count": 14,
   "metadata": {
    "collapsed": true
   },
   "outputs": [],
   "source": [
    "#cross validation\n",
    "X_train, X_test, y_train, y_test = cross_validation.train_test_split (trainingPixmaps, trainingClasses, \n",
    "                                                                      test_size=0.25, random_state=0)"
   ]
  },
  {
   "cell_type": "code",
   "execution_count": 15,
   "metadata": {
    "collapsed": true
   },
   "outputs": [],
   "source": [
    "#chagne the format of y_train and y_test\n",
    "def changeY(ys) :\n",
    "    newYs = []\n",
    "    for i in range (0,len(ys)):\n",
    "        index = int(ys[i])\n",
    "        newPoint = np.zeros(98)\n",
    "        newPoint[index] = 1\n",
    "        newYs.append(newPoint)\n",
    "    return np.asarray(newYs)"
   ]
  },
  {
   "cell_type": "code",
   "execution_count": 16,
   "metadata": {
    "collapsed": true
   },
   "outputs": [],
   "source": [
    "#define get batch method for later use\n",
    "def getBatch(num) :\n",
    "    batch_xs = []\n",
    "    batch_ys = []\n",
    "    for i in range (0, num) :\n",
    "        index = random.randrange(0, len(X_train))\n",
    "        batch_xs.append(X_train[index])\n",
    "        batch_ys.append(y_train[index])\n",
    "    return (np.asarray(batch_xs), changeY(np.asarray(batch_ys)))"
   ]
  },
  {
   "cell_type": "code",
   "execution_count": 17,
   "metadata": {
    "collapsed": false
   },
   "outputs": [],
   "source": [
    "#defin computing accuracy method\n",
    "def compute_accuracy(v_xs, v_ys):\n",
    "    global prediction\n",
    "    y_pre = sess.run(prediction, feed_dict={xs: v_xs, keep_prob: 1})\n",
    "    correct_prediction = tf.equal(tf.argmax(y_pre,1), tf.argmax(v_ys,1))\n",
    "    accuracy = tf.reduce_mean(tf.cast(correct_prediction, tf.float32))\n",
    "    result = sess.run(accuracy, feed_dict={xs: v_xs, ys: v_ys, keep_prob: 1})\n",
    "    return result\n",
    "\n",
    "#define weight method\n",
    "def weight_variable(shape):\n",
    "    initial = tf.truncated_normal(shape, stddev=0.1)\n",
    "    return tf.Variable(initial)\n",
    "\n",
    "#define bias method\n",
    "def bias_variable(shape):\n",
    "    initial = tf.constant(0.1, shape=shape)\n",
    "    return tf.Variable(initial)\n",
    "\n",
    "#define convolutional method\n",
    "def conv2d(x, W):\n",
    "    # stride [1, x_movement, y_movement, 1]\n",
    "    # Must have strides[0] = strides[3] = 1\n",
    "    return tf.nn.conv2d(x, W, strides=[1, 1, 1, 1], padding='SAME')\n",
    "\n",
    "#define pooling method\n",
    "def max_pool_2x2(x):\n",
    "    # stride [1, x_movement, y_movement, 1]\n",
    "    return tf.nn.max_pool(x, ksize=[1,2,2,1], strides=[1,2,2,1], padding='SAME')\n",
    "\n",
    "#13x33\n",
    "xs = tf.placeholder(tf.float32,[None,429])\n",
    "\n",
    "\n",
    "#98 classes\n",
    "ys = tf.placeholder(tf.float32,[None,98]) \n",
    "\n",
    "#weight\n",
    "W = tf.Variable(tf.zeros([429,98]))\n",
    "#bias\n",
    "b = tf.Variable(tf.zeros([98]))\n",
    "\n",
    "keep_prob = tf.placeholder(tf.float32)\n",
    "x_image = tf.reshape(xs, [-1, 13, 33, 1])"
   ]
  },
  {
   "cell_type": "code",
   "execution_count": 18,
   "metadata": {
    "collapsed": false
   },
   "outputs": [],
   "source": [
    "## conv1 layer ##\n",
    "W_conv1 = weight_variable([5,5, 1,18]) # patch 5x5, in size 1, out size 18\n",
    "b_conv1 = bias_variable([18])\n",
    "h_conv1 = tf.nn.relu(conv2d(x_image, W_conv1) + b_conv1) # output size 13x33x32\n",
    "h_pool1 = max_pool_2x2(h_conv1) # output size 7x17x32\n",
    "\n",
    "## conv2 layer ##\n",
    "W_conv2 = weight_variable([3,3, 18, 64]) # patch 3x3, in size 18, out size 64\n",
    "b_conv2 = bias_variable([64])\n",
    "h_conv2 = tf.nn.relu(conv2d(h_pool1, W_conv2) + b_conv2) # output size 7x17x64\n",
    "h_pool2 = max_pool_2x2(h_conv2)     # output size 4x9x64\n",
    "\n",
    "\n",
    "\n",
    "## func2 layer ##\n",
    "W_fc2 = weight_variable([4*9*64, 2500])\n",
    "b_fc2 = bias_variable([2500])\n",
    "h_pool3_flat2 = tf.reshape(h_pool2, [-1,4*9*64])\n",
    "h_fc2 = tf.nn.relu(tf.matmul(h_pool3_flat2, W_fc2) + b_fc2)\n",
    "h_fc1_drop3 = tf.nn.dropout(h_fc2, keep_prob)\n",
    "\n",
    "## func2 layer ##\n",
    "W_fc3 = weight_variable([2500, 98])\n",
    "b_fc3 = bias_variable([98])\n",
    "prediction = tf.nn.softmax(tf.matmul(h_fc1_drop3, W_fc3) + b_fc3)\n",
    "\n",
    "\n",
    "# the error between prediction and real data\n",
    "cross_entropy = tf.reduce_mean(-tf.reduce_sum(ys * tf.log(prediction),\n",
    "                                              reduction_indices=[1]))       # loss\n",
    "train_step = tf.train.AdamOptimizer(1e-4).minimize(cross_entropy)\n",
    "\n",
    "correct_prediction = tf.equal(tf.argmax(prediction,1), tf.argmax(ys,1))\n",
    "accuracy = tf.reduce_mean(tf.cast(correct_prediction, tf.float32))\n",
    "\n",
    "sess = tf.Session()\n",
    "# important step\n",
    "sess.run(tf.initialize_all_variables())\n",
    "\n"
   ]
  },
  {
   "cell_type": "code",
   "execution_count": 19,
   "metadata": {
    "collapsed": false
   },
   "outputs": [
    {
     "name": "stdout",
     "output_type": "stream",
     "text": [
      "0.00938668\n",
      "0.611884\n",
      "0.643863\n",
      "0.651181\n",
      "0.664227\n",
      "0.670909\n",
      "0.678148\n",
      "0.678705\n",
      "0.684273\n",
      "0.682841\n"
     ]
    }
   ],
   "source": [
    "for i in range(11500):\n",
    "    #print(mnist.train.next_batch)\n",
    "    batch_xs, batch_ys = getBatch(50)\n",
    "    \n",
    "    #print(batch_ys)\n",
    "    sess.run(train_step, feed_dict={xs: batch_xs, ys: batch_ys, keep_prob: 0.5})\n",
    "    if i % 1150 == 0:\n",
    "        print(compute_accuracy(\n",
    "         X_test, changeY(y_test)))"
   ]
  },
  {
   "cell_type": "code",
   "execution_count": 20,
   "metadata": {
    "collapsed": false
   },
   "outputs": [],
   "source": [
    " y_pre = sess.run(prediction, feed_dict={xs: testPixmaps, keep_prob: 1})"
   ]
  },
  {
   "cell_type": "code",
   "execution_count": 21,
   "metadata": {
    "collapsed": false
   },
   "outputs": [],
   "source": [
    "list1 = []\n",
    "list1 = []\n",
    "for i in range(0,len(testPixmaps)):\n",
    "    list1.append(np.argmax(y_pre[i]))\n",
    "#print(testPixmaps)"
   ]
  },
  {
   "cell_type": "code",
   "execution_count": 22,
   "metadata": {
    "collapsed": true
   },
   "outputs": [],
   "source": [
    "results = []\n",
    "for i in range(0,len(testPixmaps)):\n",
    "    temp = []\n",
    "    temp.append(int(testIds[i]))\n",
    "    temp.append(int(list1[i]))\n",
    "    results.append(temp)"
   ]
  },
  {
   "cell_type": "code",
   "execution_count": 23,
   "metadata": {
    "collapsed": true
   },
   "outputs": [],
   "source": [
    "import csv \n",
    "\n",
    "with open(\"finalone.csv\", \"wb\") as f:\n",
    "    writer = csv.writer(f)\n",
    "    writer.writerows(results)"
   ]
  },
  {
   "cell_type": "code",
   "execution_count": null,
   "metadata": {
    "collapsed": true
   },
   "outputs": [],
   "source": []
  }
 ],
 "metadata": {
  "anaconda-cloud": {},
  "kernelspec": {
   "display_name": "Python [Root]",
   "language": "python",
   "name": "Python [Root]"
  },
  "language_info": {
   "codemirror_mode": {
    "name": "ipython",
    "version": 2
   },
   "file_extension": ".py",
   "mimetype": "text/x-python",
   "name": "python",
   "nbconvert_exporter": "python",
   "pygments_lexer": "ipython2",
   "version": "2.7.12"
  }
 },
 "nbformat": 4,
 "nbformat_minor": 0
}
