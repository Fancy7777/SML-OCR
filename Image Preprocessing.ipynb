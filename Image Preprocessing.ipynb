{
 "cells": [
  {
   "cell_type": "code",
   "execution_count": 1,
   "metadata": {
    "collapsed": false,
    "scrolled": true
   },
   "outputs": [
    {
     "name": "stderr",
     "output_type": "stream",
     "text": [
      "/home/alex/.local/lib/python2.7/site-packages/sklearn/cross_validation.py:43: DeprecationWarning: This module was deprecated in version 0.18 in favor of the model_selection module into which all the refactored classes and functions are moved. Also note that the interface of the new CV iterators are different from that of this module. This module will be removed in 0.20.\n",
      "  \"This module will be removed in 0.20.\", DeprecationWarning)\n"
     ]
    }
   ],
   "source": [
    "%matplotlib inline\n",
    "import numpy as np\n",
    "import matplotlib.pyplot as plt\n",
    "import matplotlib.image as mpimg\n",
    "import sys\n",
    "sys.path.append('/usr/local/lib/python2.7/site-packages')\n",
    "import cv\n",
    "import cv2 #First install python-openCV\n",
    "from sklearn import cross_validation"
   ]
  },
  {
   "cell_type": "code",
   "execution_count": 2,
   "metadata": {
    "collapsed": false
   },
   "outputs": [],
   "source": [
    "plt.rcParams['figure.figsize'] = (20, 12)"
   ]
  },
  {
   "cell_type": "code",
   "execution_count": 3,
   "metadata": {
    "collapsed": true
   },
   "outputs": [],
   "source": [
    "allTraingData = np.genfromtxt('train.csv', delimiter=',')\n",
    "allTestData = np.genfromtxt('test.csv', delimiter = ',')"
   ]
  },
  {
   "cell_type": "code",
   "execution_count": 4,
   "metadata": {
    "collapsed": false
   },
   "outputs": [],
   "source": [
    "trainingPixmaps = allTraingData[:,9:438]\n",
    "trainingClasses =  allTraingData[:,1]\n",
    "\n",
    "\n",
    "\n",
    "X_train, X_test, y_train, y_test = cross_validation.train_test_split (trainingPixmaps, trainingClasses, \n",
    "                                                                      test_size=0.20, random_state=0)"
   ]
  },
  {
   "cell_type": "code",
   "execution_count": null,
   "metadata": {
    "collapsed": true
   },
   "outputs": [],
   "source": []
  },
  {
   "cell_type": "code",
   "execution_count": null,
   "metadata": {
    "collapsed": false
   },
   "outputs": [],
   "source": [
    "#http://docs.opencv.org/3.0-beta/doc/py_tutorials/py_imgproc/py_thresholding/py_thresholding.html\n",
    "img = trainingPixmaps[0].reshape(33,13)\n",
    "img = img.astype(np.uint8)\n",
    "img = cv2.medianBlur(img,1)\n",
    "\n",
    "ret,th1 = cv2.threshold(img,127,255,cv2.THRESH_BINARY)\n",
    "th2 = cv2.adaptiveThreshold(img,255,cv2.ADAPTIVE_THRESH_MEAN_C,\\\n",
    "            cv2.THRESH_BINARY,11,2)\n",
    "th3 = cv2.adaptiveThreshold(img,255,cv2.ADAPTIVE_THRESH_GAUSSIAN_C,\\\n",
    "            cv2.THRESH_BINARY,11,2)\n",
    "\n",
    "titles = ['Original Image', 'Global Thresholding (v = 127)',\n",
    "            'Adaptive Mean Thresholding', 'Adaptive Gaussian Thresholding']\n",
    "images = [img, th1, th2, th3]\n",
    "\n",
    "for i in xrange(4):\n",
    "    plt.subplot(2,2,i+1),plt.imshow(images[i],'gray')\n",
    "    plt.title(titles[i])\n",
    "    plt.xticks([]),plt.yticks([])\n",
    "plt.show()"
   ]
  },
  {
   "cell_type": "code",
   "execution_count": 5,
   "metadata": {
    "collapsed": true
   },
   "outputs": [],
   "source": [
    "def removeNoise(image) :\n",
    "    image = image.reshape(33,13)\n",
    "    image = image.astype(np.uint8)\n",
    "    ret,th1 = cv2.threshold(image,127,255,cv2.THRESH_BINARY)\n",
    "    th1 = th1.reshape(429)\n",
    "    return th1"
   ]
  },
  {
   "cell_type": "code",
   "execution_count": 6,
   "metadata": {
    "collapsed": false
   },
   "outputs": [],
   "source": [
    "def centreImage(image) : \n",
    "    image = image.reshape(33,13)\n",
    "    imageTotalSum = np.sum(image)\n",
    "    halfSum = imageTotalSum / 2\n",
    "    \n",
    "    rowSums = np.sum(image, axis = 1)\n",
    "    colSums = np.sum(image, axis = 0)\n",
    "    \n",
    "    rowId = 0\n",
    "    i = 0\n",
    "    while (i < halfSum) :\n",
    "        i += rowSums[rowId]\n",
    "        rowId += 1\n",
    "        \n",
    "    colId = 0\n",
    "    i = 0\n",
    "    while (i < halfSum) :\n",
    "        i += colSums[colId]\n",
    "        colId += 1\n",
    "    imageCentreX = colId\n",
    "    imageCentreY = rowId\n",
    "    \n",
    "    print(imageCentreX)\n",
    "    print(imageCentreY)\n",
    "    \n",
    "    return image"
   ]
  },
  {
   "cell_type": "code",
   "execution_count": 7,
   "metadata": {
    "collapsed": false
   },
   "outputs": [],
   "source": [
    "def removeWhitespace(image):\n",
    "    image = image.reshape(33,13)\n",
    "    rowSums = np.sum(image, axis = 1)\n",
    "    colSums = np.sum(image, axis = 0)\n",
    "    blankRowsStart = 0\n",
    "    blankRowsEnd = 13\n",
    "    blankColumnsStart = 0\n",
    "    blankColumsnEnd = 33\n",
    "    \n",
    "    #Top rows margin\n",
    "    isBlank = 1\n",
    "    count = 0;\n",
    "    while(isBlank and count != 32) :\n",
    "        if(rowSums[count] == 0) :\n",
    "            count += 1\n",
    "        else :\n",
    "            isBlank = 0\n",
    "            \n",
    "    blankRowsStart = 0 + count\n",
    "    \n",
    "    #Bottom rows margin\n",
    "    isBlank = 1\n",
    "    count = 32;\n",
    "    while(isBlank and count != 1) :\n",
    "        if(rowSums[count] == 0) :\n",
    "            count -= 1\n",
    "        else :\n",
    "            isBlank = 0\n",
    "            \n",
    "    blankRowsEnd = count\n",
    "    \n",
    "    \n",
    "        #Left cols margin\n",
    "    isBlank = 1\n",
    "    count = 0;\n",
    "    while(isBlank and count != 12) :\n",
    "        if(colSums[count] == 0) :\n",
    "            count += 1\n",
    "        else :\n",
    "            isBlank = 0\n",
    "            \n",
    "    blankColumnsStart = 0 + count\n",
    "    \n",
    "    #Bottom rows margin\n",
    "    isBlank = 1\n",
    "    count = 12;\n",
    "    while(isBlank and count != 1) :\n",
    "        if(colSums[count] == 0) :\n",
    "            count -= 1\n",
    "        else :\n",
    "            isBlank = 0\n",
    "            \n",
    "    blankColumsnEnd =  count\n",
    "    \n",
    "    if blankColumsnEnd != 12 :\n",
    "        blankColumsnEnd += 1\n",
    "        \n",
    "    if blankRowsEnd != 32 :\n",
    "        blankRowsEnd += 1\n",
    "        \n",
    "    if (blankRowsStart == 32) :\n",
    "        blankRowsStart = 0\n",
    "    if (blankColumnsStart == 12):\n",
    "        blankColumnsStart = 0\n",
    "        \n",
    "    #print(blankRowsStart)\n",
    "    #print(blankRowsEnd)\n",
    "    #print(blankColumnsStart)\n",
    "    #print(blankColumsnEnd)\n",
    "    smallImage = image[blankRowsStart:blankRowsEnd,blankColumnsStart:blankColumsnEnd]\n",
    "    scaledImage = cv2.resize(smallImage, (13,33))\n",
    "    #resized_image = cv2.resize(image, (100, 50)) \n",
    "    return scaledImage.reshape(429)\n"
   ]
  },
  {
   "cell_type": "code",
   "execution_count": 27,
   "metadata": {
    "collapsed": false
   },
   "outputs": [
    {
     "data": {
      "text/plain": [
       "<function matplotlib.pyplot.show>"
      ]
     },
     "execution_count": 27,
     "metadata": {},
     "output_type": "execute_result"
    },
    {
     "data": {
      "image/png": "[encoded data removed]",
      "text/plain": [
       "<matplotlib.figure.Figure at 0x7f66afd56110>"
      ]
     },
     "metadata": {},
     "output_type": "display_data"
    }
   ],
   "source": [
    "img2 = X_train[0].reshape(33,13)\n",
    "#img = img.astype(np.uint8)\n",
    "#print(img)\n",
    "img2 = removeNoise(img).reshape(33,13)\n",
    "#print(img.reshape(13,33))\n",
    "img2 = removeWhitespace(img).reshape(33,13)\n",
    "#centreImage(img)\n",
    "#print(smallImage)\n",
    "\n",
    "#smallImage = smallImage[10:24,1:13]\n",
    "plt.imshow(img2, 'gray')\n",
    "#plt.imshow(scaledImage, 'gray')\n",
    "plt.show"
   ]
  },
  {
   "cell_type": "code",
   "execution_count": null,
   "metadata": {
    "collapsed": false
   },
   "outputs": [],
   "source": [
    "\n",
    "firstImage = 0\n",
    "lastImage = 10\n",
    "numImages = lastImage - firstImage\n",
    "for i in range (0,numImages) :\n",
    "    img = trainingPixmaps[i + firstImage].reshape(33,13)\n",
    "    imgRN = removeNoise(img).reshape(33,13)\n",
    "    imgCT = centreImage(img).reshape(33,13)\n",
    "    \n",
    "    plt.subplot(numImages,2, (i*2)+1), plt.imshow(img, 'gray')\n",
    "    plt.title('Original')\n",
    "    plt.xticks([]),plt.yticks([])\n",
    "    plt.subplot(numImages,2, (i*2)+2), plt.imshow(imgRN, 'gray')\n",
    "    plt.title('Cleaned')\n",
    "    plt.xticks([]),plt.yticks([])\n",
    "plt.show()"
   ]
  },
  {
   "cell_type": "code",
   "execution_count": null,
   "metadata": {
    "collapsed": true
   },
   "outputs": [],
   "source": [
    "# Take largest shape from the object\n",
    "# Count how many there are\n",
    "\n",
    "#needs a cleaned image\n",
    "def islands (image):\n",
    "    img = image.reshape(33,13)\n",
    "\n",
    "    for i in range \n",
    "#Centralised Zoning # Height and width dimensions # Sobel filters left right diagonal\n",
    "#Dynamic value for the threshold\n",
    "\n",
    "# dynamic programming number of islands\n"
   ]
  },
  {
   "cell_type": "code",
   "execution_count": 8,
   "metadata": {
    "collapsed": false
   },
   "outputs": [],
   "source": [
    "cleanedFeatures = []\n",
    "#reshapedTraining = np.asarray(trainingPixmaps).reshape(33,13,35000)\n",
    "for i in range (0,len(X_train)) :\n",
    "    #print(i)\n",
    "    dataPoint = X_train[i]\n",
    "    cleanDataPoint = removeNoise(dataPoint)\n",
    "    scaledImage = removeWhitespace(cleanDataPoint)\n",
    "    cleanedFeatures.append(scaledImage)"
   ]
  },
  {
   "cell_type": "code",
   "execution_count": 9,
   "metadata": {
    "collapsed": false,
    "scrolled": true
   },
   "outputs": [],
   "source": [
    "cleanedCVFeatures = []\n",
    "#reshapedTraining = np.asarray(trainingPixmaps).reshape(33,13,35000)\n",
    "for i in range (0,len(X_test)) :\n",
    "    dataPoint = X_test[i]\n",
    "    cleanDataPoint = removeNoise(dataPoint)\n",
    "    scaledImage = removeWhitespace(cleanDataPoint)\n",
    "    cleanedCVFeatures.append(scaledImage)"
   ]
  },
  {
   "cell_type": "code",
   "execution_count": 10,
   "metadata": {
    "collapsed": false
   },
   "outputs": [],
   "source": [
    "from sklearn.neighbors import NearestNeighbors\n",
    "nbrs = NearestNeighbors(n_neighbors = 3, algorithm='ball_tree').fit(cleanedFeatures)"
   ]
  },
  {
   "cell_type": "code",
   "execution_count": 11,
   "metadata": {
    "collapsed": true
   },
   "outputs": [],
   "source": [
    "distances, indices = nbrs.kneighbors(np.array(cleanedCVFeatures))"
   ]
  },
  {
   "cell_type": "code",
   "execution_count": 12,
   "metadata": {
    "collapsed": false
   },
   "outputs": [
    {
     "name": "stdout",
     "output_type": "stream",
     "text": [
      "[2, 5950, 19408, 36042]\n",
      "6198\n",
      "10057\n"
     ]
    }
   ],
   "source": [
    "totalCorrect = 0\n",
    "wrongOnes = []\n",
    "correctOnes = []\n",
    "for i in range (0,len(y_test)) :\n",
    "    nearestPoints = indices[i]\n",
    "    closestPoints = []\n",
    "    for j in range (0,3) :\n",
    "        closestPoints.append(y_train[nearestPoints[j]])\n",
    "        \n",
    "    from collections import Counter\n",
    "    data = Counter(closestPoints)\n",
    "    classification = data.most_common(1)  # Returns the highest occurring item\n",
    "    temp = []\n",
    "    temp.append(i)\n",
    "    for k in range (0,3):\n",
    "        temp.append(nearestPoints[k])\n",
    "    if (classification[0][0] == y_test[i]):\n",
    "      totalCorrect += 1\n",
    "      correctOnes.append(temp)\n",
    "    else :\n",
    "        wrongOnes.append(temp)\n",
    "\n",
    "print(wrongOnes[0])\n",
    "        \n",
    "\n",
    "print (totalCorrect)\n",
    "print (len(y_test))\n"
   ]
  },
  {
   "cell_type": "code",
   "execution_count": null,
   "metadata": {
    "collapsed": true
   },
   "outputs": [],
   "source": [
    "# Look at the ones which were wrong:\n"
   ]
  },
  {
   "cell_type": "code",
   "execution_count": 19,
   "metadata": {
    "collapsed": false
   },
   "outputs": [
    {
     "name": "stdout",
     "output_type": "stream",
     "text": [
      "The correct Classifcaiton of the point is 43.0\n",
      "The classification of the nearest training point is 72.0\n",
      "The classification of the second nearest training point is 72.0\n",
      "The classification of the third nearest training point is 72.0\n"
     ]
    },
    {
     "data": {
      "image/png": "[encoded data removed]",
      "text/plain": [
       "<matplotlib.figure.Figure at 0x7f66aff17490>"
      ]
     },
     "metadata": {},
     "output_type": "display_data"
    }
   ],
   "source": [
    "\n",
    "point = wrongOnes[667]\n",
    "\n",
    "\n",
    "print(\"The correct Classifcaiton of the point is \" + str(y_test[point[0]]))\n",
    "print(\"The classification of the nearest training point is \" + str(y_train[point[1]]))\n",
    "print(\"The classification of the second nearest training point is \" + str(y_train[point[2]]))\n",
    "print(\"The classification of the third nearest training point is \" + str(y_train[point[3]]))\n",
    "img = X_test[point[0]].reshape(33,13)\n",
    "closest1 = X_train[point[1]].reshape(33,13)\n",
    "closest2 = X_train[point[2]].reshape(33,13)\n",
    "closest3 = X_train[point[3]].reshape(33,13)\n",
    "\n",
    "\n",
    "titles = ['Test Image', 'Closest1',\n",
    "            'Closest2', 'Closest3']\n",
    "images = [img, closest1, closest2, closest3]\n",
    "\n",
    "for i in xrange(4):\n",
    "    plt.subplot(2,2,i+1),plt.imshow(images[i],'gray')\n",
    "    plt.title(titles[i])\n",
    "    plt.xticks([]),plt.yticks([])\n",
    "plt.show()"
   ]
  },
  {
   "cell_type": "code",
   "execution_count": null,
   "metadata": {
    "collapsed": true
   },
   "outputs": [],
   "source": [
    "testIds = allTestData[:,0]\n",
    "testPixmaps = allTestData[:,9:438]"
   ]
  },
  {
   "cell_type": "code",
   "execution_count": null,
   "metadata": {
    "collapsed": true
   },
   "outputs": [],
   "source": [
    "cleanedTestFeatures = []\n",
    "#reshapedTraining = np.asarray(trainingPixmaps).reshape(33,13,35000)\n",
    "for i in range (0,len(testPixmaps)) :\n",
    "    dataPoint = testPixmaps[i]\n",
    "    cleanDataPoint = removeNoise(dataPoint)\n",
    "    scaledImage = removeWhitespace(cleanDataPoint)\n",
    "    cleanedTestFeatures.append(scaledImage)"
   ]
  },
  {
   "cell_type": "code",
   "execution_count": null,
   "metadata": {
    "collapsed": true
   },
   "outputs": [],
   "source": [
    "distancesTest, indicesTest = nbrs.kneighbors(np.array(cleanedTestFeatures))"
   ]
  },
  {
   "cell_type": "code",
   "execution_count": null,
   "metadata": {
    "collapsed": false
   },
   "outputs": [],
   "source": [
    "results = []\n",
    "pointsss = []\n",
    "\n",
    "for i in range (0,len(testIds)) :\n",
    "    nearestPoints = indicesTest[i]\n",
    "    closestPoints = []\n",
    "    for j in range (0,3) :\n",
    "        closestPoints.append(y_train[nearestPoints[j]])\n",
    "        \n",
    "    from collections import Counter\n",
    "    data = Counter(closestPoints)\n",
    "    classification = data.most_common(1)  # Returns the highest occurring item\n",
    "    \n",
    "    temp = []\n",
    "    temp.append(testIds[i])\n",
    "    temp.append(classification[0][0])\n",
    "    results.append(temp)\n",
    "    \n",
    "    temp2 = []\n",
    "    temp2.append(i)\n",
    "    for k in range (0,3):\n",
    "        temp2.append(nearestPoints[k])\n",
    "    pointsss.append(temp2)\n"
   ]
  },
  {
   "cell_type": "code",
   "execution_count": null,
   "metadata": {
    "collapsed": false
   },
   "outputs": [],
   "source": [
    "\n",
    "point = pointsss[0]\n",
    "\n",
    "\n",
    "#print(\"The correct Classifcaiton of the point is \" + str(y_test[point[0]]))\n",
    "print(\"The classification of the nearest training point is \" + str(y_train[point[1]]))\n",
    "print(\"The classification of the second nearest training point is \" + str(y_train[point[2]]))\n",
    "print(\"The classification of the third nearest training point is \" + str(y_train[point[3]]))\n",
    "img = testPixmaps[point[0]].reshape(33,13)\n",
    "closest1 = X_train[point[1]].reshape(33,13)\n",
    "closest2 = X_train[point[2]].reshape(33,13)\n",
    "closest3 = X_train[point[3]].reshape(33,13)\n",
    "\n",
    "\n",
    "titles = ['Test Image', 'Closest1',\n",
    "            'Closest2', 'Closest3']\n",
    "images = [img, closest1, closest2, closest3]\n",
    "\n",
    "for i in xrange(4):\n",
    "    plt.subplot(2,2,i+1),plt.imshow(images[i],'gray')\n",
    "    plt.title(titles[i])\n",
    "    plt.xticks([]),plt.yticks([])\n",
    "plt.show()"
   ]
  },
  {
   "cell_type": "code",
   "execution_count": null,
   "metadata": {
    "collapsed": false
   },
   "outputs": [],
   "source": [
    "results[0]"
   ]
  },
  {
   "cell_type": "code",
   "execution_count": null,
   "metadata": {
    "collapsed": true
   },
   "outputs": [],
   "source": [
    "import csv\n",
    "\n",
    "with open(\"output.csv\", \"wb\") as f:\n",
    "    writer = csv.writer(f)\n",
    "    writer.writerows(results)"
   ]
  },
  {
   "cell_type": "code",
   "execution_count": null,
   "metadata": {
    "collapsed": true
   },
   "outputs": [],
   "source": []
  }
 ],
 "metadata": {
  "kernelspec": {
   "display_name": "Python [Root]",
   "language": "python",
   "name": "Python [Root]"
  },
  "language_info": {
   "codemirror_mode": {
    "name": "ipython",
    "version": 2
   },
   "file_extension": ".py",
   "mimetype": "text/x-python",
   "name": "python",
   "nbconvert_exporter": "python",
   "pygments_lexer": "ipython2",
   "version": "2.7.12"
  }
 },
 "nbformat": 4,
 "nbformat_minor": 0
}
